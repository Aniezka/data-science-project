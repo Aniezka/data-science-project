{
 "cells": [
  {
   "cell_type": "code",
   "execution_count": 1,
   "metadata": {
    "id": "WVYDkytS_hGY"
   },
   "outputs": [],
   "source": [
    "import pandas as pd\n",
    "from sklearn.model_selection import train_test_split\n",
    "from sklearn.feature_extraction.text import TfidfVectorizer, CountVectorizer\n",
    "from sklearn.model_selection import cross_validate\n",
    "from sklearn.linear_model import Perceptron\n",
    "from sklearn.metrics import classification_report, accuracy_score, confusion_matrix\n",
    "from sklearn.linear_model import LogisticRegression\n",
    "from sklearn.tree import DecisionTreeClassifier\n",
    "from sklearn.naive_bayes import MultinomialNB\n",
    "from sklearn.ensemble import RandomForestClassifier\n",
    "import matplotlib.pyplot as plt\n",
    "import numpy as np\n",
    "from sklearn.model_selection import GridSearchCV\n",
    "from sklearn.metrics import f1_score\n",
    "import warnings\n",
    "warnings.filterwarnings('ignore')\n",
    "\n",
    "random_state = 0"
   ]
  },
  {
   "cell_type": "code",
   "execution_count": 249,
   "metadata": {
    "id": "h7CAaj6I_pFP"
   },
   "outputs": [],
   "source": [
    "df = pd.read_csv(\"/content/processed_data.csv\")"
   ]
  },
  {
   "cell_type": "code",
   "execution_count": 250,
   "metadata": {
    "colab": {
     "base_uri": "https://localhost:8080/",
     "height": 337
    },
    "id": "968C5SJdAPJd",
    "outputId": "95574744-755b-43d3-f6e0-5bd0f762d7f1"
   },
   "outputs": [
    {
     "data": {
      "text/html": [
       "\n",
       "  <div id=\"df-598a28a7-195a-4674-9a73-cdf8f0d5366e\">\n",
       "    <div class=\"colab-df-container\">\n",
       "      <div>\n",
       "<style scoped>\n",
       "    .dataframe tbody tr th:only-of-type {\n",
       "        vertical-align: middle;\n",
       "    }\n",
       "\n",
       "    .dataframe tbody tr th {\n",
       "        vertical-align: top;\n",
       "    }\n",
       "\n",
       "    .dataframe thead th {\n",
       "        text-align: right;\n",
       "    }\n",
       "</style>\n",
       "<table border=\"1\" class=\"dataframe\">\n",
       "  <thead>\n",
       "    <tr style=\"text-align: right;\">\n",
       "      <th></th>\n",
       "      <th>text</th>\n",
       "      <th>category</th>\n",
       "      <th>tokens_without_sw</th>\n",
       "      <th>tokens_sw</th>\n",
       "      <th>sentences</th>\n",
       "      <th>sentences_tokens</th>\n",
       "    </tr>\n",
       "  </thead>\n",
       "  <tbody>\n",
       "    <tr>\n",
       "      <th>0</th>\n",
       "      <td>Dharmakīrti (fl. c. 6th or 7th century; Tibeta...</td>\n",
       "      <td>Philosopher</td>\n",
       "      <td>['dharmakrti', 'fl', 'century', 'tibetan', 'wy...</td>\n",
       "      <td>['dharmakrti', 'fl', 'or', 'century', 'tibetan...</td>\n",
       "      <td>['Dharmakīrti (fl.', 'c.\\u20096th or 7th centu...</td>\n",
       "      <td>[['dharmakrti', 'fl'], ['century', 'tibetan', ...</td>\n",
       "    </tr>\n",
       "    <tr>\n",
       "      <th>1</th>\n",
       "      <td>Christina M. Slade (born 1953) is an Australia...</td>\n",
       "      <td>Philosopher</td>\n",
       "      <td>['christina', 'slade', 'born', 'australian', '...</td>\n",
       "      <td>['christina', 'slade', 'born', 'is', 'an', 'au...</td>\n",
       "      <td>['Christina M. Slade (born 1953) is an Austral...</td>\n",
       "      <td>[['christina', 'slade', 'born', 'australian', ...</td>\n",
       "    </tr>\n",
       "    <tr>\n",
       "      <th>2</th>\n",
       "      <td>Tsang Lap Chuen (Chinese: 曾立存) is a Chinese ph...</td>\n",
       "      <td>Philosopher</td>\n",
       "      <td>['tsang', 'lap', 'chuen', 'chinese', 'chinese'...</td>\n",
       "      <td>['tsang', 'lap', 'chuen', 'chinese', 'is', 'a'...</td>\n",
       "      <td>['Tsang Lap Chuen (Chinese: 曾立存) is a Chinese ...</td>\n",
       "      <td>[['tsang', 'lap', 'chuen', 'chinese', 'chinese...</td>\n",
       "    </tr>\n",
       "    <tr>\n",
       "      <th>3</th>\n",
       "      <td>Callicles (/ˈkælɪkliːz/; Greek: Καλλικλῆς;  c....</td>\n",
       "      <td>Philosopher</td>\n",
       "      <td>['callicles', 'greek', 'late', 'century', 'bc'...</td>\n",
       "      <td>['callicles', 'greek', 'late', 'century', 'bc'...</td>\n",
       "      <td>['Callicles (/ˈkælɪkliːz/; Greek: Καλλικλῆς;  ...</td>\n",
       "      <td>[['callicles', 'greek', 'late', 'century', 'bc...</td>\n",
       "    </tr>\n",
       "    <tr>\n",
       "      <th>4</th>\n",
       "      <td>Sally Haslanger (/ˈhæslæŋər/) is an American p...</td>\n",
       "      <td>Philosopher</td>\n",
       "      <td>['sally', 'haslanger', 'american', 'philosophe...</td>\n",
       "      <td>['sally', 'haslanger', 'is', 'an', 'american',...</td>\n",
       "      <td>['Sally Haslanger (/ˈhæslæŋər/) is an American...</td>\n",
       "      <td>[['sally', 'haslanger', 'american', 'philosoph...</td>\n",
       "    </tr>\n",
       "  </tbody>\n",
       "</table>\n",
       "</div>\n",
       "      <button class=\"colab-df-convert\" onclick=\"convertToInteractive('df-598a28a7-195a-4674-9a73-cdf8f0d5366e')\"\n",
       "              title=\"Convert this dataframe to an interactive table.\"\n",
       "              style=\"display:none;\">\n",
       "        \n",
       "  <svg xmlns=\"http://www.w3.org/2000/svg\" height=\"24px\"viewBox=\"0 0 24 24\"\n",
       "       width=\"24px\">\n",
       "    <path d=\"M0 0h24v24H0V0z\" fill=\"none\"/>\n",
       "    <path d=\"M18.56 5.44l.94 2.06.94-2.06 2.06-.94-2.06-.94-.94-2.06-.94 2.06-2.06.94zm-11 1L8.5 8.5l.94-2.06 2.06-.94-2.06-.94L8.5 2.5l-.94 2.06-2.06.94zm10 10l.94 2.06.94-2.06 2.06-.94-2.06-.94-.94-2.06-.94 2.06-2.06.94z\"/><path d=\"M17.41 7.96l-1.37-1.37c-.4-.4-.92-.59-1.43-.59-.52 0-1.04.2-1.43.59L10.3 9.45l-7.72 7.72c-.78.78-.78 2.05 0 2.83L4 21.41c.39.39.9.59 1.41.59.51 0 1.02-.2 1.41-.59l7.78-7.78 2.81-2.81c.8-.78.8-2.07 0-2.86zM5.41 20L4 18.59l7.72-7.72 1.47 1.35L5.41 20z\"/>\n",
       "  </svg>\n",
       "      </button>\n",
       "      \n",
       "  <style>\n",
       "    .colab-df-container {\n",
       "      display:flex;\n",
       "      flex-wrap:wrap;\n",
       "      gap: 12px;\n",
       "    }\n",
       "\n",
       "    .colab-df-convert {\n",
       "      background-color: #E8F0FE;\n",
       "      border: none;\n",
       "      border-radius: 50%;\n",
       "      cursor: pointer;\n",
       "      display: none;\n",
       "      fill: #1967D2;\n",
       "      height: 32px;\n",
       "      padding: 0 0 0 0;\n",
       "      width: 32px;\n",
       "    }\n",
       "\n",
       "    .colab-df-convert:hover {\n",
       "      background-color: #E2EBFA;\n",
       "      box-shadow: 0px 1px 2px rgba(60, 64, 67, 0.3), 0px 1px 3px 1px rgba(60, 64, 67, 0.15);\n",
       "      fill: #174EA6;\n",
       "    }\n",
       "\n",
       "    [theme=dark] .colab-df-convert {\n",
       "      background-color: #3B4455;\n",
       "      fill: #D2E3FC;\n",
       "    }\n",
       "\n",
       "    [theme=dark] .colab-df-convert:hover {\n",
       "      background-color: #434B5C;\n",
       "      box-shadow: 0px 1px 3px 1px rgba(0, 0, 0, 0.15);\n",
       "      filter: drop-shadow(0px 1px 2px rgba(0, 0, 0, 0.3));\n",
       "      fill: #FFFFFF;\n",
       "    }\n",
       "  </style>\n",
       "\n",
       "      <script>\n",
       "        const buttonEl =\n",
       "          document.querySelector('#df-598a28a7-195a-4674-9a73-cdf8f0d5366e button.colab-df-convert');\n",
       "        buttonEl.style.display =\n",
       "          google.colab.kernel.accessAllowed ? 'block' : 'none';\n",
       "\n",
       "        async function convertToInteractive(key) {\n",
       "          const element = document.querySelector('#df-598a28a7-195a-4674-9a73-cdf8f0d5366e');\n",
       "          const dataTable =\n",
       "            await google.colab.kernel.invokeFunction('convertToInteractive',\n",
       "                                                     [key], {});\n",
       "          if (!dataTable) return;\n",
       "\n",
       "          const docLinkHtml = 'Like what you see? Visit the ' +\n",
       "            '<a target=\"_blank\" href=https://colab.research.google.com/notebooks/data_table.ipynb>data table notebook</a>'\n",
       "            + ' to learn more about interactive tables.';\n",
       "          element.innerHTML = '';\n",
       "          dataTable['output_type'] = 'display_data';\n",
       "          await google.colab.output.renderOutput(dataTable, element);\n",
       "          const docLink = document.createElement('div');\n",
       "          docLink.innerHTML = docLinkHtml;\n",
       "          element.appendChild(docLink);\n",
       "        }\n",
       "      </script>\n",
       "    </div>\n",
       "  </div>\n",
       "  "
      ],
      "text/plain": [
       "                                                text     category  \\\n",
       "0  Dharmakīrti (fl. c. 6th or 7th century; Tibeta...  Philosopher   \n",
       "1  Christina M. Slade (born 1953) is an Australia...  Philosopher   \n",
       "2  Tsang Lap Chuen (Chinese: 曾立存) is a Chinese ph...  Philosopher   \n",
       "3  Callicles (/ˈkælɪkliːz/; Greek: Καλλικλῆς;  c....  Philosopher   \n",
       "4  Sally Haslanger (/ˈhæslæŋər/) is an American p...  Philosopher   \n",
       "\n",
       "                                   tokens_without_sw  \\\n",
       "0  ['dharmakrti', 'fl', 'century', 'tibetan', 'wy...   \n",
       "1  ['christina', 'slade', 'born', 'australian', '...   \n",
       "2  ['tsang', 'lap', 'chuen', 'chinese', 'chinese'...   \n",
       "3  ['callicles', 'greek', 'late', 'century', 'bc'...   \n",
       "4  ['sally', 'haslanger', 'american', 'philosophe...   \n",
       "\n",
       "                                           tokens_sw  \\\n",
       "0  ['dharmakrti', 'fl', 'or', 'century', 'tibetan...   \n",
       "1  ['christina', 'slade', 'born', 'is', 'an', 'au...   \n",
       "2  ['tsang', 'lap', 'chuen', 'chinese', 'is', 'a'...   \n",
       "3  ['callicles', 'greek', 'late', 'century', 'bc'...   \n",
       "4  ['sally', 'haslanger', 'is', 'an', 'american',...   \n",
       "\n",
       "                                           sentences  \\\n",
       "0  ['Dharmakīrti (fl.', 'c.\\u20096th or 7th centu...   \n",
       "1  ['Christina M. Slade (born 1953) is an Austral...   \n",
       "2  ['Tsang Lap Chuen (Chinese: 曾立存) is a Chinese ...   \n",
       "3  ['Callicles (/ˈkælɪkliːz/; Greek: Καλλικλῆς;  ...   \n",
       "4  ['Sally Haslanger (/ˈhæslæŋər/) is an American...   \n",
       "\n",
       "                                    sentences_tokens  \n",
       "0  [['dharmakrti', 'fl'], ['century', 'tibetan', ...  \n",
       "1  [['christina', 'slade', 'born', 'australian', ...  \n",
       "2  [['tsang', 'lap', 'chuen', 'chinese', 'chinese...  \n",
       "3  [['callicles', 'greek', 'late', 'century', 'bc...  \n",
       "4  [['sally', 'haslanger', 'american', 'philosoph...  "
      ]
     },
     "execution_count": 250,
     "metadata": {},
     "output_type": "execute_result"
    }
   ],
   "source": [
    "df.head()"
   ]
  },
  {
   "cell_type": "code",
   "execution_count": 251,
   "metadata": {
    "colab": {
     "base_uri": "https://localhost:8080/",
     "height": 236
    },
    "id": "u-DE01pIAQPn",
    "outputId": "64d00fc9-c764-40db-c0c3-fdc5e41fc489"
   },
   "outputs": [
    {
     "data": {
      "text/html": [
       "\n",
       "  <div id=\"df-6d8aae43-a8cc-4e6f-a796-a2ec0b0e52a9\">\n",
       "    <div class=\"colab-df-container\">\n",
       "      <div>\n",
       "<style scoped>\n",
       "    .dataframe tbody tr th:only-of-type {\n",
       "        vertical-align: middle;\n",
       "    }\n",
       "\n",
       "    .dataframe tbody tr th {\n",
       "        vertical-align: top;\n",
       "    }\n",
       "\n",
       "    .dataframe thead th {\n",
       "        text-align: right;\n",
       "    }\n",
       "</style>\n",
       "<table border=\"1\" class=\"dataframe\">\n",
       "  <thead>\n",
       "    <tr style=\"text-align: right;\">\n",
       "      <th></th>\n",
       "      <th>text</th>\n",
       "      <th>category</th>\n",
       "      <th>tokens_without_sw</th>\n",
       "      <th>tokens_sw</th>\n",
       "      <th>sentences</th>\n",
       "      <th>sentences_tokens</th>\n",
       "    </tr>\n",
       "  </thead>\n",
       "  <tbody>\n",
       "    <tr>\n",
       "      <th>count</th>\n",
       "      <td>6459</td>\n",
       "      <td>6459</td>\n",
       "      <td>6459</td>\n",
       "      <td>6459</td>\n",
       "      <td>6459</td>\n",
       "      <td>6459</td>\n",
       "    </tr>\n",
       "    <tr>\n",
       "      <th>unique</th>\n",
       "      <td>6432</td>\n",
       "      <td>2</td>\n",
       "      <td>6432</td>\n",
       "      <td>6432</td>\n",
       "      <td>6432</td>\n",
       "      <td>6432</td>\n",
       "    </tr>\n",
       "    <tr>\n",
       "      <th>top</th>\n",
       "      <td>Mario Augusto Bunge (/ˈbʊŋɡeɪ/; Spanish: [ˈbuŋ...</td>\n",
       "      <td>Philosopher</td>\n",
       "      <td>['mario', 'augusto', 'bunge', 'spanish', 'buxe...</td>\n",
       "      <td>['mario', 'augusto', 'bunge', 'spanish', 'buxe...</td>\n",
       "      <td>['Mario Augusto Bunge (/ˈbʊŋɡeɪ/; Spanish: [ˈb...</td>\n",
       "      <td>[['mario', 'augusto', 'bunge', 'spanish', 'bux...</td>\n",
       "    </tr>\n",
       "    <tr>\n",
       "      <th>freq</th>\n",
       "      <td>2</td>\n",
       "      <td>3696</td>\n",
       "      <td>2</td>\n",
       "      <td>2</td>\n",
       "      <td>2</td>\n",
       "      <td>2</td>\n",
       "    </tr>\n",
       "  </tbody>\n",
       "</table>\n",
       "</div>\n",
       "      <button class=\"colab-df-convert\" onclick=\"convertToInteractive('df-6d8aae43-a8cc-4e6f-a796-a2ec0b0e52a9')\"\n",
       "              title=\"Convert this dataframe to an interactive table.\"\n",
       "              style=\"display:none;\">\n",
       "        \n",
       "  <svg xmlns=\"http://www.w3.org/2000/svg\" height=\"24px\"viewBox=\"0 0 24 24\"\n",
       "       width=\"24px\">\n",
       "    <path d=\"M0 0h24v24H0V0z\" fill=\"none\"/>\n",
       "    <path d=\"M18.56 5.44l.94 2.06.94-2.06 2.06-.94-2.06-.94-.94-2.06-.94 2.06-2.06.94zm-11 1L8.5 8.5l.94-2.06 2.06-.94-2.06-.94L8.5 2.5l-.94 2.06-2.06.94zm10 10l.94 2.06.94-2.06 2.06-.94-2.06-.94-.94-2.06-.94 2.06-2.06.94z\"/><path d=\"M17.41 7.96l-1.37-1.37c-.4-.4-.92-.59-1.43-.59-.52 0-1.04.2-1.43.59L10.3 9.45l-7.72 7.72c-.78.78-.78 2.05 0 2.83L4 21.41c.39.39.9.59 1.41.59.51 0 1.02-.2 1.41-.59l7.78-7.78 2.81-2.81c.8-.78.8-2.07 0-2.86zM5.41 20L4 18.59l7.72-7.72 1.47 1.35L5.41 20z\"/>\n",
       "  </svg>\n",
       "      </button>\n",
       "      \n",
       "  <style>\n",
       "    .colab-df-container {\n",
       "      display:flex;\n",
       "      flex-wrap:wrap;\n",
       "      gap: 12px;\n",
       "    }\n",
       "\n",
       "    .colab-df-convert {\n",
       "      background-color: #E8F0FE;\n",
       "      border: none;\n",
       "      border-radius: 50%;\n",
       "      cursor: pointer;\n",
       "      display: none;\n",
       "      fill: #1967D2;\n",
       "      height: 32px;\n",
       "      padding: 0 0 0 0;\n",
       "      width: 32px;\n",
       "    }\n",
       "\n",
       "    .colab-df-convert:hover {\n",
       "      background-color: #E2EBFA;\n",
       "      box-shadow: 0px 1px 2px rgba(60, 64, 67, 0.3), 0px 1px 3px 1px rgba(60, 64, 67, 0.15);\n",
       "      fill: #174EA6;\n",
       "    }\n",
       "\n",
       "    [theme=dark] .colab-df-convert {\n",
       "      background-color: #3B4455;\n",
       "      fill: #D2E3FC;\n",
       "    }\n",
       "\n",
       "    [theme=dark] .colab-df-convert:hover {\n",
       "      background-color: #434B5C;\n",
       "      box-shadow: 0px 1px 3px 1px rgba(0, 0, 0, 0.15);\n",
       "      filter: drop-shadow(0px 1px 2px rgba(0, 0, 0, 0.3));\n",
       "      fill: #FFFFFF;\n",
       "    }\n",
       "  </style>\n",
       "\n",
       "      <script>\n",
       "        const buttonEl =\n",
       "          document.querySelector('#df-6d8aae43-a8cc-4e6f-a796-a2ec0b0e52a9 button.colab-df-convert');\n",
       "        buttonEl.style.display =\n",
       "          google.colab.kernel.accessAllowed ? 'block' : 'none';\n",
       "\n",
       "        async function convertToInteractive(key) {\n",
       "          const element = document.querySelector('#df-6d8aae43-a8cc-4e6f-a796-a2ec0b0e52a9');\n",
       "          const dataTable =\n",
       "            await google.colab.kernel.invokeFunction('convertToInteractive',\n",
       "                                                     [key], {});\n",
       "          if (!dataTable) return;\n",
       "\n",
       "          const docLinkHtml = 'Like what you see? Visit the ' +\n",
       "            '<a target=\"_blank\" href=https://colab.research.google.com/notebooks/data_table.ipynb>data table notebook</a>'\n",
       "            + ' to learn more about interactive tables.';\n",
       "          element.innerHTML = '';\n",
       "          dataTable['output_type'] = 'display_data';\n",
       "          await google.colab.output.renderOutput(dataTable, element);\n",
       "          const docLink = document.createElement('div');\n",
       "          docLink.innerHTML = docLinkHtml;\n",
       "          element.appendChild(docLink);\n",
       "        }\n",
       "      </script>\n",
       "    </div>\n",
       "  </div>\n",
       "  "
      ],
      "text/plain": [
       "                                                     text     category  \\\n",
       "count                                                6459         6459   \n",
       "unique                                               6432            2   \n",
       "top     Mario Augusto Bunge (/ˈbʊŋɡeɪ/; Spanish: [ˈbuŋ...  Philosopher   \n",
       "freq                                                    2         3696   \n",
       "\n",
       "                                        tokens_without_sw  \\\n",
       "count                                                6459   \n",
       "unique                                               6432   \n",
       "top     ['mario', 'augusto', 'bunge', 'spanish', 'buxe...   \n",
       "freq                                                    2   \n",
       "\n",
       "                                                tokens_sw  \\\n",
       "count                                                6459   \n",
       "unique                                               6432   \n",
       "top     ['mario', 'augusto', 'bunge', 'spanish', 'buxe...   \n",
       "freq                                                    2   \n",
       "\n",
       "                                                sentences  \\\n",
       "count                                                6459   \n",
       "unique                                               6432   \n",
       "top     ['Mario Augusto Bunge (/ˈbʊŋɡeɪ/; Spanish: [ˈb...   \n",
       "freq                                                    2   \n",
       "\n",
       "                                         sentences_tokens  \n",
       "count                                                6459  \n",
       "unique                                               6432  \n",
       "top     [['mario', 'augusto', 'bunge', 'spanish', 'bux...  \n",
       "freq                                                    2  "
      ]
     },
     "execution_count": 251,
     "metadata": {},
     "output_type": "execute_result"
    }
   ],
   "source": [
    "df.describe()"
   ]
  },
  {
   "cell_type": "markdown",
   "metadata": {
    "id": "LigK5yKv9qLB"
   },
   "source": [
    "# Data Preparation"
   ]
  },
  {
   "cell_type": "code",
   "execution_count": 252,
   "metadata": {
    "colab": {
     "base_uri": "https://localhost:8080/"
    },
    "id": "p9Q0EiJ0De8D",
    "outputId": "757864c9-c654-47cd-a7f5-125ef8eb522e"
   },
   "outputs": [
    {
     "name": "stdout",
     "output_type": "stream",
     "text": [
      "{1: 'Philosopher', 2: 'Physicist'}\n"
     ]
    }
   ],
   "source": [
    "# Create a dict mapping an integer to a category\n",
    "dic = {}\n",
    "for top in df['category'].unique():\n",
    "  dic[len(dic) + 1] = top\n",
    "print(dic)"
   ]
  },
  {
   "cell_type": "code",
   "execution_count": 253,
   "metadata": {
    "colab": {
     "base_uri": "https://localhost:8080/"
    },
    "id": "pIjZFQPgEbjK",
    "outputId": "f9784956-9bbc-4dcf-bb7c-dc075dac905e"
   },
   "outputs": [
    {
     "name": "stdout",
     "output_type": "stream",
     "text": [
      "{'Philosopher': 1, 'Physicist': 2}\n"
     ]
    }
   ],
   "source": [
    "# Create a reverse dict\n",
    "dic_revers = {}\n",
    "for k in dic:\n",
    "  dic_revers[dic[k]] = k\n",
    "print(dic_revers)"
   ]
  },
  {
   "cell_type": "code",
   "execution_count": 254,
   "metadata": {
    "colab": {
     "base_uri": "https://localhost:8080/"
    },
    "id": "i_OzQ8K3EekR",
    "outputId": "99b803aa-237a-4e21-8b0a-748c2e77106b"
   },
   "outputs": [
    {
     "data": {
      "text/plain": [
       "array([1, 2])"
      ]
     },
     "execution_count": 254,
     "metadata": {},
     "output_type": "execute_result"
    }
   ],
   "source": [
    "# Create a column \"label\"\n",
    "def preproc(label):\n",
    "  return dic_revers[label]\n",
    "\n",
    "df['label'] = df['category'].apply(preproc)\n",
    "df['label'].unique()"
   ]
  },
  {
   "cell_type": "code",
   "execution_count": 255,
   "metadata": {
    "colab": {
     "base_uri": "https://localhost:8080/",
     "height": 337
    },
    "id": "yUIt6BW3EmgN",
    "outputId": "5afd6043-6535-4e19-e60e-13a9582bc846"
   },
   "outputs": [
    {
     "data": {
      "text/html": [
       "\n",
       "  <div id=\"df-bf258130-b9ce-4514-b694-759a236a1f03\">\n",
       "    <div class=\"colab-df-container\">\n",
       "      <div>\n",
       "<style scoped>\n",
       "    .dataframe tbody tr th:only-of-type {\n",
       "        vertical-align: middle;\n",
       "    }\n",
       "\n",
       "    .dataframe tbody tr th {\n",
       "        vertical-align: top;\n",
       "    }\n",
       "\n",
       "    .dataframe thead th {\n",
       "        text-align: right;\n",
       "    }\n",
       "</style>\n",
       "<table border=\"1\" class=\"dataframe\">\n",
       "  <thead>\n",
       "    <tr style=\"text-align: right;\">\n",
       "      <th></th>\n",
       "      <th>text</th>\n",
       "      <th>category</th>\n",
       "      <th>tokens_without_sw</th>\n",
       "      <th>tokens_sw</th>\n",
       "      <th>sentences</th>\n",
       "      <th>sentences_tokens</th>\n",
       "      <th>label</th>\n",
       "    </tr>\n",
       "  </thead>\n",
       "  <tbody>\n",
       "    <tr>\n",
       "      <th>0</th>\n",
       "      <td>Dharmakīrti (fl. c. 6th or 7th century; Tibeta...</td>\n",
       "      <td>Philosopher</td>\n",
       "      <td>['dharmakrti', 'fl', 'century', 'tibetan', 'wy...</td>\n",
       "      <td>['dharmakrti', 'fl', 'or', 'century', 'tibetan...</td>\n",
       "      <td>['Dharmakīrti (fl.', 'c.\\u20096th or 7th centu...</td>\n",
       "      <td>[['dharmakrti', 'fl'], ['century', 'tibetan', ...</td>\n",
       "      <td>1</td>\n",
       "    </tr>\n",
       "    <tr>\n",
       "      <th>1</th>\n",
       "      <td>Christina M. Slade (born 1953) is an Australia...</td>\n",
       "      <td>Philosopher</td>\n",
       "      <td>['christina', 'slade', 'born', 'australian', '...</td>\n",
       "      <td>['christina', 'slade', 'born', 'is', 'an', 'au...</td>\n",
       "      <td>['Christina M. Slade (born 1953) is an Austral...</td>\n",
       "      <td>[['christina', 'slade', 'born', 'australian', ...</td>\n",
       "      <td>1</td>\n",
       "    </tr>\n",
       "    <tr>\n",
       "      <th>2</th>\n",
       "      <td>Tsang Lap Chuen (Chinese: 曾立存) is a Chinese ph...</td>\n",
       "      <td>Philosopher</td>\n",
       "      <td>['tsang', 'lap', 'chuen', 'chinese', 'chinese'...</td>\n",
       "      <td>['tsang', 'lap', 'chuen', 'chinese', 'is', 'a'...</td>\n",
       "      <td>['Tsang Lap Chuen (Chinese: 曾立存) is a Chinese ...</td>\n",
       "      <td>[['tsang', 'lap', 'chuen', 'chinese', 'chinese...</td>\n",
       "      <td>1</td>\n",
       "    </tr>\n",
       "    <tr>\n",
       "      <th>3</th>\n",
       "      <td>Callicles (/ˈkælɪkliːz/; Greek: Καλλικλῆς;  c....</td>\n",
       "      <td>Philosopher</td>\n",
       "      <td>['callicles', 'greek', 'late', 'century', 'bc'...</td>\n",
       "      <td>['callicles', 'greek', 'late', 'century', 'bc'...</td>\n",
       "      <td>['Callicles (/ˈkælɪkliːz/; Greek: Καλλικλῆς;  ...</td>\n",
       "      <td>[['callicles', 'greek', 'late', 'century', 'bc...</td>\n",
       "      <td>1</td>\n",
       "    </tr>\n",
       "    <tr>\n",
       "      <th>4</th>\n",
       "      <td>Sally Haslanger (/ˈhæslæŋər/) is an American p...</td>\n",
       "      <td>Philosopher</td>\n",
       "      <td>['sally', 'haslanger', 'american', 'philosophe...</td>\n",
       "      <td>['sally', 'haslanger', 'is', 'an', 'american',...</td>\n",
       "      <td>['Sally Haslanger (/ˈhæslæŋər/) is an American...</td>\n",
       "      <td>[['sally', 'haslanger', 'american', 'philosoph...</td>\n",
       "      <td>1</td>\n",
       "    </tr>\n",
       "  </tbody>\n",
       "</table>\n",
       "</div>\n",
       "      <button class=\"colab-df-convert\" onclick=\"convertToInteractive('df-bf258130-b9ce-4514-b694-759a236a1f03')\"\n",
       "              title=\"Convert this dataframe to an interactive table.\"\n",
       "              style=\"display:none;\">\n",
       "        \n",
       "  <svg xmlns=\"http://www.w3.org/2000/svg\" height=\"24px\"viewBox=\"0 0 24 24\"\n",
       "       width=\"24px\">\n",
       "    <path d=\"M0 0h24v24H0V0z\" fill=\"none\"/>\n",
       "    <path d=\"M18.56 5.44l.94 2.06.94-2.06 2.06-.94-2.06-.94-.94-2.06-.94 2.06-2.06.94zm-11 1L8.5 8.5l.94-2.06 2.06-.94-2.06-.94L8.5 2.5l-.94 2.06-2.06.94zm10 10l.94 2.06.94-2.06 2.06-.94-2.06-.94-.94-2.06-.94 2.06-2.06.94z\"/><path d=\"M17.41 7.96l-1.37-1.37c-.4-.4-.92-.59-1.43-.59-.52 0-1.04.2-1.43.59L10.3 9.45l-7.72 7.72c-.78.78-.78 2.05 0 2.83L4 21.41c.39.39.9.59 1.41.59.51 0 1.02-.2 1.41-.59l7.78-7.78 2.81-2.81c.8-.78.8-2.07 0-2.86zM5.41 20L4 18.59l7.72-7.72 1.47 1.35L5.41 20z\"/>\n",
       "  </svg>\n",
       "      </button>\n",
       "      \n",
       "  <style>\n",
       "    .colab-df-container {\n",
       "      display:flex;\n",
       "      flex-wrap:wrap;\n",
       "      gap: 12px;\n",
       "    }\n",
       "\n",
       "    .colab-df-convert {\n",
       "      background-color: #E8F0FE;\n",
       "      border: none;\n",
       "      border-radius: 50%;\n",
       "      cursor: pointer;\n",
       "      display: none;\n",
       "      fill: #1967D2;\n",
       "      height: 32px;\n",
       "      padding: 0 0 0 0;\n",
       "      width: 32px;\n",
       "    }\n",
       "\n",
       "    .colab-df-convert:hover {\n",
       "      background-color: #E2EBFA;\n",
       "      box-shadow: 0px 1px 2px rgba(60, 64, 67, 0.3), 0px 1px 3px 1px rgba(60, 64, 67, 0.15);\n",
       "      fill: #174EA6;\n",
       "    }\n",
       "\n",
       "    [theme=dark] .colab-df-convert {\n",
       "      background-color: #3B4455;\n",
       "      fill: #D2E3FC;\n",
       "    }\n",
       "\n",
       "    [theme=dark] .colab-df-convert:hover {\n",
       "      background-color: #434B5C;\n",
       "      box-shadow: 0px 1px 3px 1px rgba(0, 0, 0, 0.15);\n",
       "      filter: drop-shadow(0px 1px 2px rgba(0, 0, 0, 0.3));\n",
       "      fill: #FFFFFF;\n",
       "    }\n",
       "  </style>\n",
       "\n",
       "      <script>\n",
       "        const buttonEl =\n",
       "          document.querySelector('#df-bf258130-b9ce-4514-b694-759a236a1f03 button.colab-df-convert');\n",
       "        buttonEl.style.display =\n",
       "          google.colab.kernel.accessAllowed ? 'block' : 'none';\n",
       "\n",
       "        async function convertToInteractive(key) {\n",
       "          const element = document.querySelector('#df-bf258130-b9ce-4514-b694-759a236a1f03');\n",
       "          const dataTable =\n",
       "            await google.colab.kernel.invokeFunction('convertToInteractive',\n",
       "                                                     [key], {});\n",
       "          if (!dataTable) return;\n",
       "\n",
       "          const docLinkHtml = 'Like what you see? Visit the ' +\n",
       "            '<a target=\"_blank\" href=https://colab.research.google.com/notebooks/data_table.ipynb>data table notebook</a>'\n",
       "            + ' to learn more about interactive tables.';\n",
       "          element.innerHTML = '';\n",
       "          dataTable['output_type'] = 'display_data';\n",
       "          await google.colab.output.renderOutput(dataTable, element);\n",
       "          const docLink = document.createElement('div');\n",
       "          docLink.innerHTML = docLinkHtml;\n",
       "          element.appendChild(docLink);\n",
       "        }\n",
       "      </script>\n",
       "    </div>\n",
       "  </div>\n",
       "  "
      ],
      "text/plain": [
       "                                                text     category  \\\n",
       "0  Dharmakīrti (fl. c. 6th or 7th century; Tibeta...  Philosopher   \n",
       "1  Christina M. Slade (born 1953) is an Australia...  Philosopher   \n",
       "2  Tsang Lap Chuen (Chinese: 曾立存) is a Chinese ph...  Philosopher   \n",
       "3  Callicles (/ˈkælɪkliːz/; Greek: Καλλικλῆς;  c....  Philosopher   \n",
       "4  Sally Haslanger (/ˈhæslæŋər/) is an American p...  Philosopher   \n",
       "\n",
       "                                   tokens_without_sw  \\\n",
       "0  ['dharmakrti', 'fl', 'century', 'tibetan', 'wy...   \n",
       "1  ['christina', 'slade', 'born', 'australian', '...   \n",
       "2  ['tsang', 'lap', 'chuen', 'chinese', 'chinese'...   \n",
       "3  ['callicles', 'greek', 'late', 'century', 'bc'...   \n",
       "4  ['sally', 'haslanger', 'american', 'philosophe...   \n",
       "\n",
       "                                           tokens_sw  \\\n",
       "0  ['dharmakrti', 'fl', 'or', 'century', 'tibetan...   \n",
       "1  ['christina', 'slade', 'born', 'is', 'an', 'au...   \n",
       "2  ['tsang', 'lap', 'chuen', 'chinese', 'is', 'a'...   \n",
       "3  ['callicles', 'greek', 'late', 'century', 'bc'...   \n",
       "4  ['sally', 'haslanger', 'is', 'an', 'american',...   \n",
       "\n",
       "                                           sentences  \\\n",
       "0  ['Dharmakīrti (fl.', 'c.\\u20096th or 7th centu...   \n",
       "1  ['Christina M. Slade (born 1953) is an Austral...   \n",
       "2  ['Tsang Lap Chuen (Chinese: 曾立存) is a Chinese ...   \n",
       "3  ['Callicles (/ˈkælɪkliːz/; Greek: Καλλικλῆς;  ...   \n",
       "4  ['Sally Haslanger (/ˈhæslæŋər/) is an American...   \n",
       "\n",
       "                                    sentences_tokens  label  \n",
       "0  [['dharmakrti', 'fl'], ['century', 'tibetan', ...      1  \n",
       "1  [['christina', 'slade', 'born', 'australian', ...      1  \n",
       "2  [['tsang', 'lap', 'chuen', 'chinese', 'chinese...      1  \n",
       "3  [['callicles', 'greek', 'late', 'century', 'bc...      1  \n",
       "4  [['sally', 'haslanger', 'american', 'philosoph...      1  "
      ]
     },
     "execution_count": 255,
     "metadata": {},
     "output_type": "execute_result"
    }
   ],
   "source": [
    "df.head()"
   ]
  },
  {
   "cell_type": "code",
   "execution_count": 256,
   "metadata": {
    "colab": {
     "base_uri": "https://localhost:8080/"
    },
    "id": "lA20Os6hEoo1",
    "outputId": "c7865eae-e79e-4061-d5df-645d3e3ed487"
   },
   "outputs": [
    {
     "data": {
      "text/plain": [
       "1    0.572225\n",
       "2    0.427775\n",
       "Name: label, dtype: float64"
      ]
     },
     "execution_count": 256,
     "metadata": {},
     "output_type": "execute_result"
    }
   ],
   "source": [
    "df.label.value_counts(normalize=True)"
   ]
  },
  {
   "cell_type": "code",
   "execution_count": 258,
   "metadata": {
    "id": "gMb4nDhoE9ko"
   },
   "outputs": [],
   "source": [
    "# Split the data into training and testing sets\n",
    "X = df['tokens_without_sw']\n",
    "y = df['label']\n",
    "X_train, X_test, y_train, y_test = train_test_split(X, y, test_size=0.2, random_state=0, shuffle=True)"
   ]
  },
  {
   "cell_type": "code",
   "execution_count": 259,
   "metadata": {
    "id": "r64vEsXmFXZ6"
   },
   "outputs": [],
   "source": [
    "# Using TFIDF vectorizer to convert words to vectors\n",
    "tfidf_vectorizer = TfidfVectorizer(max_features=1000,\n",
    "                                    use_idf=True,\n",
    "                                    ngram_range=(1, 3))\n",
    "# Fit the vectorizer to train and test data\n",
    "X_train_vec = tfidf_vectorizer.fit_transform(X_train)\n",
    "X_test_vec = tfidf_vectorizer.transform(X_test)"
   ]
  },
  {
   "cell_type": "code",
   "execution_count": 260,
   "metadata": {
    "colab": {
     "base_uri": "https://localhost:8080/"
    },
    "id": "aLgpQ4CGGXV-",
    "outputId": "2d059b48-be57-42c0-ca52-ce98752d43af"
   },
   "outputs": [
    {
     "name": "stdout",
     "output_type": "stream",
     "text": [
      "['ability' 'able' 'absolute' 'academic' 'academy' 'academy science'\n",
      " 'accepted' 'according' 'account' 'achievement' 'act' 'action' 'active'\n",
      " 'activity' 'adam' 'addition' 'advanced' 'aesthetic' 'affair' 'age' 'air'\n",
      " 'albert' 'alexander' 'allowed' 'almost' 'along' 'already' 'also'\n",
      " 'although' 'always' 'america' 'american' 'among' 'analysis' 'ancient'\n",
      " 'animal' 'another' 'appeared' 'appears' 'application' 'applied'\n",
      " 'appointed' 'appointment' 'approach' 'april' 'area' 'argued' 'argues'\n",
      " 'argument' 'aristotle' 'army' 'around' 'art' 'article' 'asked' 'aspect'\n",
      " 'assistant' 'associate' 'associated' 'association' 'astronomy' 'atomic'\n",
      " 'attack' 'attempt' 'attended' 'attention' 'attributed' 'august' 'author'\n",
      " 'authority' 'award' 'awarded' 'away' 'bachelor' 'back' 'based' 'basic'\n",
      " 'basis' 'bc' 'became' 'become' 'becoming' 'began' 'beginning' 'being'\n",
      " 'belief' 'believe' 'believed' 'berkeley' 'berlin' 'best' 'best known'\n",
      " 'better' 'beyond' 'biography' 'birth' 'bishop' 'black' 'board' 'body'\n",
      " 'bohr' 'book' 'born' 'british' 'brother' 'brought' 'buddha' 'buddhist'\n",
      " 'building' 'built' 'california' 'call' 'called' 'cambridge' 'came'\n",
      " 'canada' 'career' 'case' 'catholic' 'cause' 'caused' 'center' 'central'\n",
      " 'centre' 'century' 'certain' 'chair' 'change' 'chapter' 'character'\n",
      " 'charge' 'charles' 'chemistry' 'chicago' 'chief' 'child' 'china'\n",
      " 'chinese' 'choice' 'christ' 'christian' 'christianity' 'church' 'circle'\n",
      " 'citation' 'citation needed' 'cited' 'city' 'civil' 'claim' 'claimed'\n",
      " 'class' 'classical' 'clear' 'close' 'colleague' 'collection' 'college'\n",
      " 'columbia' 'come' 'commentary' 'commission' 'committee' 'common'\n",
      " 'communication' 'communist' 'community' 'company' 'complete' 'completed'\n",
      " 'complex' 'computer' 'concept' 'conception' 'concern' 'concerned'\n",
      " 'concerning' 'condition' 'conference' 'conflict' 'congress' 'connection'\n",
      " 'consciousness' 'considered' 'contemporary' 'content' 'context'\n",
      " 'continued' 'contrast' 'contributed' 'contribution' 'control'\n",
      " 'controversy' 'could' 'council' 'country' 'course' 'court' 'create'\n",
      " 'created' 'creation' 'critic' 'critical' 'criticism' 'criticized'\n",
      " 'critique' 'cultural' 'culture' 'current' 'currently' 'date' 'daughter'\n",
      " 'david' 'day' 'de' 'death' 'debate' 'decade' 'december' 'decided'\n",
      " 'decision' 'definition' 'degree' 'democracy' 'democratic' 'department'\n",
      " 'der' 'described' 'describes' 'description' 'design' 'desire' 'despite'\n",
      " 'develop' 'developed' 'development' 'devoted' 'dialogue' 'die' 'died'\n",
      " 'difference' 'different' 'direct' 'direction' 'director' 'disciple'\n",
      " 'discourse' 'discovered' 'discovery' 'discussion' 'dissertation'\n",
      " 'distinction' 'distinguished' 'divine' 'division' 'doctor' 'doctoral'\n",
      " 'doctorate' 'doctrine' 'due' 'dynamic' 'earlier' 'early' 'earned' 'earth'\n",
      " 'east' 'economic' 'economics' 'edited' 'edition' 'editor' 'educated'\n",
      " 'education' 'edward' 'effect' 'effort' 'einstein' 'either' 'elected'\n",
      " 'elected fellow' 'electron' 'element' 'emeritus' 'emperor' 'empire' 'end'\n",
      " 'energy' 'engineer' 'engineering' 'england' 'english' 'entered'\n",
      " 'entitled' 'epistemology' 'equation' 'especially' 'essay' 'established'\n",
      " 'et' 'ethic' 'ethical' 'europe' 'european' 'even' 'event' 'eventually'\n",
      " 'ever' 'every' 'evidence' 'evil' 'evolution' 'example' 'exist'\n",
      " 'existence' 'experience' 'experiment' 'experimental' 'explain'\n",
      " 'explanation' 'expressed' 'fact' 'faculty' 'faith' 'fall' 'family'\n",
      " 'famous' 'far' 'father' 'february' 'fellow' 'fellowship' 'felt'\n",
      " 'feminist' 'field' 'figure' 'film' 'final' 'finally' 'find' 'first'\n",
      " 'five' 'focus' 'focused' 'followed' 'follower' 'following' 'force'\n",
      " 'foreign' 'form' 'formal' 'formed' 'former' 'found' 'foundation'\n",
      " 'founded' 'founder' 'founding' 'four' 'fr' 'france' 'free' 'freedom'\n",
      " 'french' 'friedrich' 'friend' 'full' 'function' 'fundamental' 'future'\n",
      " 'gandhi' 'gave' 'general' 'generally' 'generation' 'george' 'german'\n",
      " 'germany' 'give' 'given' 'go' 'god' 'good' 'government' 'graduate'\n",
      " 'graduated' 'great' 'greatest' 'greek' 'ground' 'group' 'han' 'hand'\n",
      " 'harvard' 'head' 'health' 'hegel' 'held' 'help' 'helped' 'henry' 'high'\n",
      " 'high school' 'higher' 'highly' 'historian' 'historical' 'history' 'hold'\n",
      " 'home' 'honor' 'honorary' 'honour' 'house' 'however' 'human' 'humanity'\n",
      " 'hume' 'ibn' 'idea' 'ideal' 'identity' 'ii' 'image' 'importance'\n",
      " 'important' 'include' 'included' 'including' 'independent' 'india'\n",
      " 'indian' 'individual' 'influence' 'influenced' 'influential'\n",
      " 'information' 'inspired' 'instead' 'institute' 'institution'\n",
      " 'intellectual' 'intelligence' 'interaction' 'interest' 'interested'\n",
      " 'international' 'interpretation' 'introduced' 'introduction'\n",
      " 'investigation' 'invited' 'involved' 'islamic' 'issue' 'italian' 'italy'\n",
      " 'james' 'january' 'jefferson' 'jesus' 'jew' 'jewish' 'john' 'johnson'\n",
      " 'joined' 'joseph' 'journal' 'july' 'june' 'justice' 'kant' 'karl' 'key'\n",
      " 'kind' 'king' 'kingdom' 'know' 'knowledge' 'known' 'la' 'laboratory'\n",
      " 'lack' 'land' 'language' 'large' 'largely' 'last' 'late' 'later' 'latin'\n",
      " 'latter' 'law' 'le' 'lead' 'leader' 'leading' 'learned' 'learning'\n",
      " 'least' 'lecture' 'lecturer' 'led' 'lee' 'left' 'legal' 'leibniz'\n",
      " 'letter' 'level' 'liberal' 'library' 'life' 'light' 'like' 'line' 'list'\n",
      " 'literary' 'literature' 'little' 'live' 'lived' 'living' 'local' 'logic'\n",
      " 'logical' 'london' 'long' 'lord' 'lost' 'louis' 'love' 'made' 'magazine'\n",
      " 'main' 'major' 'make' 'making' 'man' 'manuscript' 'many' 'march' 'mark'\n",
      " 'marriage' 'married' 'martin' 'marx' 'mary' 'mass' 'master' 'material'\n",
      " 'mathematical' 'mathematician' 'mathematics' 'matter' 'max' 'may' 'mean'\n",
      " 'meaning' 'mechanic' 'medal' 'medical' 'medicine' 'medieval' 'medium'\n",
      " 'meeting' 'member' 'men' 'mental' 'met' 'metaphysics' 'method' 'michael'\n",
      " 'middle' 'might' 'military' 'mind' 'minister' 'model' 'modern' 'month'\n",
      " 'moral' 'morality' 'moscow' 'mother' 'motion' 'moved' 'movement' 'much'\n",
      " 'music' 'muslim' 'must' 'name' 'named' 'nation' 'national' 'natural'\n",
      " 'nature' 'nazi' 'near' 'necessary' 'need' 'needed' 'never' 'new'\n",
      " 'new york' 'next' 'nietzsche' 'nobel' 'nobel prize' 'north' 'notable'\n",
      " 'note' 'noted' 'nothing' 'notion' 'novel' 'november' 'nuclear' 'number'\n",
      " 'numerous' 'object' 'objective' 'observation' 'obtained' 'october'\n",
      " 'offer' 'offered' 'office' 'official' 'often' 'old' 'one' 'open'\n",
      " 'opinion' 'opposed' 'opposition' 'optic' 'optical' 'order' 'organization'\n",
      " 'origin' 'original' 'orthodox' 'others' 'outside' 'oxford' 'paper'\n",
      " 'parent' 'paris' 'part' 'particle' 'particular' 'particularly' 'party'\n",
      " 'past' 'paul' 'peace' 'people' 'perception' 'perhaps' 'period' 'person'\n",
      " 'personal' 'perspective' 'peter' 'phd' 'phenomenon' 'philosopher'\n",
      " 'philosophical' 'philosophy' 'philosophy science' 'philosophy university'\n",
      " 'physic' 'physic university' 'physical' 'physical society' 'physicist'\n",
      " 'place' 'plato' 'play' 'played' 'poem' 'poet' 'poetry' 'point' 'policy'\n",
      " 'polish' 'political' 'politics' 'pope' 'popular' 'position' 'possibility'\n",
      " 'possible' 'post' 'power' 'practical' 'practice' 'present' 'presented'\n",
      " 'president' 'press' 'previously' 'primary' 'princeton' 'principle'\n",
      " 'prior' 'private' 'prize' 'probably' 'problem' 'process' 'produced'\n",
      " 'production' 'professor' 'professor philosophy' 'professor physic'\n",
      " 'professor university' 'program' 'project' 'prominent' 'property'\n",
      " 'proposed' 'provided' 'psychological' 'psychology' 'public' 'publication'\n",
      " 'published' 'pure' 'purpose' 'put' 'quality' 'quantum' 'question' 'race'\n",
      " 'radiation' 'radical' 'radio' 'raised' 'range' 'rather' 'rational' 'read'\n",
      " 'reader' 'reading' 'real' 'reality' 'reason' 'received' 'recent'\n",
      " 'reference' 'referred' 'reform' 'regard' 'regarded' 'regarding'\n",
      " 'rejected' 'related' 'relation' 'relationship' 'religion' 'religious'\n",
      " 'remained' 'remains' 'report' 'republic' 'research' 'researcher'\n",
      " 'respect' 'response' 'rest' 'result' 'retired' 'return' 'returned'\n",
      " 'review' 'revolution' 'revolutionary' 'richard' 'right' 'robert' 'role'\n",
      " 'roman' 'rome' 'royal' 'royal society' 'rule' 'russell' 'russia'\n",
      " 'russian' 'said' 'saint' 'saw' 'say' 'saying' 'scholar' 'scholarship'\n",
      " 'school' 'science' 'scientific' 'scientist' 'second' 'secretary'\n",
      " 'section' 'see' 'seems' 'seen' 'self' 'senior' 'sense' 'sent' 'september'\n",
      " 'series' 'served' 'service' 'set' 'seven' 'several' 'short' 'show'\n",
      " 'showed' 'side' 'significant' 'similar' 'simply' 'since' 'single'\n",
      " 'sister' 'six' 'small' 'smith' 'social' 'socialist' 'society' 'socrates'\n",
      " 'solution' 'something' 'sometimes' 'son' 'soon' 'sought' 'soul' 'source'\n",
      " 'south' 'soviet' 'space' 'special' 'specific' 'speech' 'spent' 'spirit'\n",
      " 'spiritual' 'st' 'stage' 'standard' 'star' 'started' 'state'\n",
      " 'state university' 'stated' 'statement' 'still' 'story' 'strong'\n",
      " 'structure' 'student' 'studied' 'study' 'studying' 'style' 'subject'\n",
      " 'subsequently' 'suggested' 'sun' 'support' 'supported' 'surface' 'system'\n",
      " 'take' 'taken' 'taking' 'taught' 'teach' 'teacher' 'teaching' 'technical'\n",
      " 'technique' 'technology' 'temple' 'ten' 'term' 'text' 'theologian'\n",
      " 'theological' 'theology' 'theoretical' 'theoretical physic' 'theory'\n",
      " 'therefore' 'thesis' 'thing' 'think' 'thinker' 'thinking' 'third'\n",
      " 'thomas' 'though' 'thought' 'three' 'throughout' 'thus' 'time' 'title'\n",
      " 'titled' 'today' 'together' 'took' 'topic' 'towards' 'town' 'tradition'\n",
      " 'traditional' 'translated' 'translation' 'treatise' 'true' 'truth' 'turn'\n",
      " 'turned' 'two' 'two year' 'type' 'understand' 'understanding'\n",
      " 'understood' 'union' 'united' 'united state' 'universal' 'universe'\n",
      " 'university' 'university california' 'upon' 'use' 'used' 'using' 'value'\n",
      " 'van' 'various' 'version' 'vienna' 'view' 'virtue' 'vision' 'visit'\n",
      " 'visited' 'visiting' 'volume' 'von' 'war' 'war ii' 'washington' 'water'\n",
      " 'wave' 'way' 'well' 'went' 'west' 'western' 'whether' 'white' 'whole'\n",
      " 'whose' 'widely' 'wife' 'wilhelm' 'william' 'within' 'without'\n",
      " 'wittgenstein' 'woman' 'word' 'work' 'worked' 'working' 'world'\n",
      " 'world war' 'world war ii' 'would' 'write' 'writer' 'writes' 'writing'\n",
      " 'written' 'wrote' 'year' 'year later' 'yet' 'york' 'young']\n"
     ]
    }
   ],
   "source": [
    "# Printing out the features\n",
    "features = tfidf_vectorizer.get_feature_names_out()\n",
    "print(features)"
   ]
  },
  {
   "cell_type": "code",
   "execution_count": 261,
   "metadata": {
    "colab": {
     "base_uri": "https://localhost:8080/"
    },
    "id": "UI5tEYroGAHH",
    "outputId": "123cafd8-c315-40ad-d57e-683bd823b2da"
   },
   "outputs": [
    {
     "name": "stdout",
     "output_type": "stream",
     "text": [
      "Train: (5167, 1000)\n",
      "Test: (1292, 1000)\n",
      "Vocabulary size: 1000\n"
     ]
    }
   ],
   "source": [
    "print('Train:', X_train_vec.shape)\n",
    "print('Test:', X_test_vec.shape)\n",
    "print('Vocabulary size:', len(tfidf_vectorizer.vocabulary_))"
   ]
  },
  {
   "cell_type": "markdown",
   "metadata": {
    "id": "R46eCX7d9wCe"
   },
   "source": [
    "# Training and Testing Classifiers"
   ]
  },
  {
   "cell_type": "markdown",
   "metadata": {
    "id": "Cnj_4Y5s-MlR"
   },
   "source": [
    "## Perceptron"
   ]
  },
  {
   "cell_type": "code",
   "execution_count": 262,
   "metadata": {
    "id": "KoWBIPRhGu_q"
   },
   "outputs": [],
   "source": [
    "clf = Perceptron(random_state=0)\n",
    "\n",
    "# Train  the model\n",
    "clf.fit(X_train_vec, y_train)\n",
    "\n",
    "# Predict the labels of the test instances\n",
    "y_pred = clf.predict(X_test_vec)"
   ]
  },
  {
   "cell_type": "code",
   "execution_count": 263,
   "metadata": {
    "colab": {
     "base_uri": "https://localhost:8080/"
    },
    "id": "npNovOk2f-mT",
    "outputId": "d09cbf4b-156f-4a3b-a341-5ec2eecbd687"
   },
   "outputs": [
    {
     "name": "stdout",
     "output_type": "stream",
     "text": [
      "Classification report: \n",
      "               precision    recall  f1-score   support\n",
      "\n",
      "           1      0.952     0.992     0.972       747\n",
      "           2      0.988     0.932     0.959       545\n",
      "\n",
      "    accuracy                          0.967      1292\n",
      "   macro avg      0.970     0.962     0.966      1292\n",
      "weighted avg      0.968     0.967     0.967      1292\n",
      "\n"
     ]
    }
   ],
   "source": [
    "# Evaluating a classifier\n",
    "print('Classification report:', '\\n', classification_report(y_test, y_pred, digits=3))\n",
    "f1_perceptron = f1_score(y_test, y_pred)"
   ]
  },
  {
   "cell_type": "code",
   "execution_count": 264,
   "metadata": {
    "colab": {
     "base_uri": "https://localhost:8080/"
    },
    "id": "H9zIDg3GgEjs",
    "outputId": "01221c6f-1a30-49be-c5d8-28ea822b0a6e"
   },
   "outputs": [
    {
     "name": "stdout",
     "output_type": "stream",
     "text": [
      "Confusion matrix: \n",
      " [[741   6]\n",
      " [ 37 508]]\n"
     ]
    }
   ],
   "source": [
    "# Print the confusion matrix\n",
    "cm_perceptron = confusion_matrix(y_test, y_pred)\n",
    "print('Confusion matrix:', '\\n', cm_perceptron)"
   ]
  },
  {
   "cell_type": "code",
   "execution_count": 265,
   "metadata": {
    "colab": {
     "base_uri": "https://localhost:8080/",
     "height": 512
    },
    "id": "i59IdQ2BDTf4",
    "outputId": "93096cb8-d08d-420e-b8f3-61c6bc3820bd"
   },
   "outputs": [
    {
     "data": {
      "image/png": "[encoded data removed]",
      "text/plain": [
       "<Figure size 640x480 with 1 Axes>"
      ]
     },
     "metadata": {},
     "output_type": "display_data"
    }
   ],
   "source": [
    "# Print the confusion matrix in a pretty way\n",
    "plt.clf()\n",
    "plt.imshow(cm_perceptron, interpolation='nearest', cmap=plt.cm.summer)\n",
    "class_names = ['Negative','Positive']\n",
    "plt.title('Perceptron Confusion Matrix')\n",
    "plt.ylabel('True label')\n",
    "plt.xlabel('Predicted label')\n",
    "tick_marks = np.arange(len(class_names))\n",
    "plt.xticks(tick_marks, class_names, rotation=45)\n",
    "plt.yticks(tick_marks, class_names)\n",
    "s = [['TN','FP'], ['FN', 'TP']]\n",
    "\n",
    "for i in range(2):\n",
    "    for j in range(2):\n",
    "        plt.text(j,i, str(s[i][j])+\" = \"+str(cm_perceptron[i][j]))\n",
    "plt.show()"
   ]
  },
  {
   "cell_type": "markdown",
   "metadata": {
    "id": "-MRansW-EHsE"
   },
   "source": [
    "### Perceptron with K-fold"
   ]
  },
  {
   "cell_type": "code",
   "execution_count": 266,
   "metadata": {
    "colab": {
     "base_uri": "https://localhost:8080/"
    },
    "id": "Gxhz60_FORiq",
    "outputId": "96309d83-638d-4b7b-af34-407acb24141d"
   },
   "outputs": [
    {
     "name": "stdout",
     "output_type": "stream",
     "text": [
      "0.977 f1 with a standard deviation of 0.007\n"
     ]
    }
   ],
   "source": [
    "# Do the same steps as above, but this time with K-fold cross validation\n",
    "# Check for overfitting (as above we've got pretty good results)\n",
    "\n",
    "X = df['tokens_sw']\n",
    "y = df['label']\n",
    "\n",
    "tfidf_vectorizer = TfidfVectorizer(max_features=1000,\n",
    "                                    use_idf=True,\n",
    "                                    ngram_range=(1, 3))\n",
    "\n",
    "X_vec = tfidf_vectorizer.fit_transform(X)\n",
    "\n",
    "clf = Perceptron(max_iter=5,random_state=0, tol=None)\n",
    "\n",
    "scores = cross_validate(clf, X_vec, y, cv=5, scoring='f1')\n",
    "\n",
    "print(\"%0.3f f1 with a standard deviation of %0.3f\" % (scores['test_score'].mean(), scores['test_score'].std()))"
   ]
  },
  {
   "cell_type": "markdown",
   "metadata": {
    "id": "9MQdbD0gIzel"
   },
   "source": [
    "## Logistic Regression"
   ]
  },
  {
   "cell_type": "code",
   "execution_count": 267,
   "metadata": {
    "colab": {
     "base_uri": "https://localhost:8080/"
    },
    "id": "nK-6brSMiCIC",
    "outputId": "218c948a-cd74-4145-fcd0-fc2029ca9f9e"
   },
   "outputs": [
    {
     "name": "stdout",
     "output_type": "stream",
     "text": [
      "Classification report: \n",
      "               precision    recall  f1-score   support\n",
      "\n",
      "           1      0.988     0.988     0.988       747\n",
      "           2      0.983     0.983     0.983       545\n",
      "\n",
      "    accuracy                          0.986      1292\n",
      "   macro avg      0.986     0.986     0.986      1292\n",
      "weighted avg      0.986     0.986     0.986      1292\n",
      "\n"
     ]
    }
   ],
   "source": [
    "clf_log = LogisticRegression(random_state=0)\n",
    "\n",
    "# Train  the model\n",
    "clf_log.fit(X_train_vec, y_train)\n",
    "\n",
    "# Predict the labels of the test instances\n",
    "y_pred = clf_log.predict(X_test_vec)\n",
    "\n",
    "# Evaluating a classifier\n",
    "print('Classification report:', '\\n', classification_report(y_test, y_pred, digits=3))\n",
    "f1_logreg = f1_score(y_test, y_pred)"
   ]
  },
  {
   "cell_type": "code",
   "execution_count": 268,
   "metadata": {
    "colab": {
     "base_uri": "https://localhost:8080/"
    },
    "id": "nja-Yx2qL-3Q",
    "outputId": "18545be5-d15f-4733-e8a1-3f199b5e01f0"
   },
   "outputs": [
    {
     "name": "stdout",
     "output_type": "stream",
     "text": [
      "Confusion matrix: \n",
      " [[738   9]\n",
      " [  9 536]]\n"
     ]
    }
   ],
   "source": [
    "# Print the confusion matrix\n",
    "cm_logreg = confusion_matrix(y_test, y_pred)\n",
    "print('Confusion matrix:', '\\n', cm_logreg)"
   ]
  },
  {
   "cell_type": "code",
   "execution_count": 269,
   "metadata": {
    "colab": {
     "base_uri": "https://localhost:8080/",
     "height": 512
    },
    "id": "pu0oKqVrMCps",
    "outputId": "27be03fa-a157-4e7c-c087-ae4fa0d8beed"
   },
   "outputs": [
    {
     "data": {
      "image/png": "[encoded data removed]",
      "text/plain": [
       "<Figure size 640x480 with 1 Axes>"
      ]
     },
     "metadata": {},
     "output_type": "display_data"
    }
   ],
   "source": [
    "# Print the confusion matrix in a pretty way\n",
    "plt.clf()\n",
    "plt.imshow(cm_logreg, interpolation='nearest', cmap=plt.cm.summer)\n",
    "class_names = ['Negative','Positive']\n",
    "plt.title('LogisticRegression Confusion Matrix')\n",
    "plt.ylabel('True label')\n",
    "plt.xlabel('Predicted label')\n",
    "tick_marks = np.arange(len(class_names))\n",
    "plt.xticks(tick_marks, class_names, rotation=45)\n",
    "plt.yticks(tick_marks, class_names)\n",
    "s = [['TN','FP'], ['FN', 'TP']]\n",
    "\n",
    "for i in range(2):\n",
    "    for j in range(2):\n",
    "        plt.text(j,i, str(s[i][j])+\" = \"+str(cm_logreg[i][j]))\n",
    "plt.show()"
   ]
  },
  {
   "cell_type": "markdown",
   "metadata": {
    "id": "8Xwju-omJb1z"
   },
   "source": [
    "## Decision Tree"
   ]
  },
  {
   "cell_type": "code",
   "execution_count": 270,
   "metadata": {
    "colab": {
     "base_uri": "https://localhost:8080/"
    },
    "id": "lWScEzQOi8tl",
    "outputId": "8e858f5f-759b-4e2e-e2c4-874e9dc3e397"
   },
   "outputs": [
    {
     "name": "stdout",
     "output_type": "stream",
     "text": [
      "Classification report: \n",
      "               precision    recall  f1-score   support\n",
      "\n",
      "           1      0.966     0.963     0.964       747\n",
      "           2      0.949     0.954     0.952       545\n",
      "\n",
      "    accuracy                          0.959      1292\n",
      "   macro avg      0.958     0.958     0.958      1292\n",
      "weighted avg      0.959     0.959     0.959      1292\n",
      "\n"
     ]
    }
   ],
   "source": [
    "clf_dt = DecisionTreeClassifier(random_state=0)\n",
    "\n",
    "# Train  the model\n",
    "clf_dt.fit(X_train_vec, y_train)\n",
    "\n",
    "# Predict the labels of the test instances\n",
    "y_pred = clf_dt.predict(X_test_vec)\n",
    "\n",
    "# Evaluating a classifier\n",
    "print('Classification report:', '\\n', classification_report(y_test, y_pred, digits=3))\n",
    "f1_decisiontree = f1_score(y_test, y_pred)"
   ]
  },
  {
   "cell_type": "code",
   "execution_count": 271,
   "metadata": {
    "colab": {
     "base_uri": "https://localhost:8080/"
    },
    "id": "sAFViwsBMGf7",
    "outputId": "4a08da58-697c-4117-a671-27e19a52da39"
   },
   "outputs": [
    {
     "name": "stdout",
     "output_type": "stream",
     "text": [
      "Confusion matrix: \n",
      " [[719  28]\n",
      " [ 25 520]]\n"
     ]
    }
   ],
   "source": [
    "# Print the confusion matrix\n",
    "cm_decisiontree = confusion_matrix(y_test, y_pred)\n",
    "print('Confusion matrix:', '\\n', cm_decisiontree)"
   ]
  },
  {
   "cell_type": "code",
   "execution_count": 272,
   "metadata": {
    "colab": {
     "base_uri": "https://localhost:8080/",
     "height": 512
    },
    "id": "sSK6D86QMI4b",
    "outputId": "e5580f9b-0d5a-4b81-f1f6-61dce32fe2db"
   },
   "outputs": [
    {
     "data": {
      "image/png": "[encoded data removed]",
      "text/plain": [
       "<Figure size 640x480 with 1 Axes>"
      ]
     },
     "metadata": {},
     "output_type": "display_data"
    }
   ],
   "source": [
    "# Print the confusion matrix in a pretty way\n",
    "plt.clf()\n",
    "plt.imshow(cm_decisiontree, interpolation='nearest', cmap=plt.cm.summer)\n",
    "class_names = ['Negative','Positive']\n",
    "plt.title('Decision Tree Confusion Matrix')\n",
    "plt.ylabel('True label')\n",
    "plt.xlabel('Predicted label')\n",
    "tick_marks = np.arange(len(class_names))\n",
    "plt.xticks(tick_marks, class_names, rotation=45)\n",
    "plt.yticks(tick_marks, class_names)\n",
    "s = [['TN','FP'], ['FN', 'TP']]\n",
    "\n",
    "for i in range(2):\n",
    "    for j in range(2):\n",
    "        plt.text(j,i, str(s[i][j])+\" = \"+str(cm_decisiontree[i][j]))\n",
    "plt.show()"
   ]
  },
  {
   "cell_type": "markdown",
   "metadata": {
    "id": "zkQcSz9lJrPl"
   },
   "source": [
    "## Multinimonal Naive Bayes"
   ]
  },
  {
   "cell_type": "code",
   "execution_count": 274,
   "metadata": {
    "colab": {
     "base_uri": "https://localhost:8080/"
    },
    "id": "DQhTmvjSjX2v",
    "outputId": "30066768-df87-4af9-c52a-14c2494cc04a"
   },
   "outputs": [
    {
     "name": "stdout",
     "output_type": "stream",
     "text": [
      "Classification report: \n",
      "               precision    recall  f1-score   support\n",
      "\n",
      "           1      0.981     0.983     0.982       747\n",
      "           2      0.976     0.974     0.975       545\n",
      "\n",
      "    accuracy                          0.979      1292\n",
      "   macro avg      0.979     0.978     0.979      1292\n",
      "weighted avg      0.979     0.979     0.979      1292\n",
      "\n"
     ]
    }
   ],
   "source": [
    "clf_nb = MultinomialNB()\n",
    "\n",
    "# Train  the model\n",
    "clf_nb.fit(X_train_vec, y_train)\n",
    "\n",
    "# Predict the labels of the test instances\n",
    "y_pred = clf_nb.predict(X_test_vec)\n",
    "\n",
    "# Evaluating a classifier\n",
    "print('Classification report:', '\\n', classification_report(y_test, y_pred, digits=3))\n",
    "f1_nb = f1_score(y_test, y_pred)"
   ]
  },
  {
   "cell_type": "code",
   "execution_count": 275,
   "metadata": {
    "colab": {
     "base_uri": "https://localhost:8080/"
    },
    "id": "uXDSUor7MKl-",
    "outputId": "76b4091f-cb4a-4964-81fc-751f0a165350"
   },
   "outputs": [
    {
     "name": "stdout",
     "output_type": "stream",
     "text": [
      "Confusion matrix: \n",
      " [[734  13]\n",
      " [ 14 531]]\n"
     ]
    }
   ],
   "source": [
    "# Print the confusion matrix\n",
    "cm_nb = confusion_matrix(y_test, y_pred)\n",
    "print('Confusion matrix:', '\\n', cm_nb)"
   ]
  },
  {
   "cell_type": "code",
   "execution_count": 276,
   "metadata": {
    "colab": {
     "base_uri": "https://localhost:8080/",
     "height": 512
    },
    "id": "d72kw5w7MLPt",
    "outputId": "1c964635-866e-485b-9576-5892ff284892"
   },
   "outputs": [
    {
     "data": {
      "image/png": "[encoded data removed]",
      "text/plain": [
       "<Figure size 640x480 with 1 Axes>"
      ]
     },
     "metadata": {},
     "output_type": "display_data"
    }
   ],
   "source": [
    "# Print the confusion matrix in a pretty way\n",
    "plt.clf()\n",
    "plt.imshow(cm_nb, interpolation='nearest', cmap=plt.cm.summer)\n",
    "class_names = ['Negative','Positive']\n",
    "plt.title('Multinomial NB Confusion Matrix')\n",
    "plt.ylabel('True label')\n",
    "plt.xlabel('Predicted label')\n",
    "tick_marks = np.arange(len(class_names))\n",
    "plt.xticks(tick_marks, class_names, rotation=45)\n",
    "plt.yticks(tick_marks, class_names)\n",
    "s = [['TN','FP'], ['FN', 'TP']]\n",
    "\n",
    "for i in range(2):\n",
    "    for j in range(2):\n",
    "        plt.text(j,i, str(s[i][j])+\" = \"+str(cm_nb[i][j]))\n",
    "plt.show()"
   ]
  },
  {
   "cell_type": "markdown",
   "metadata": {
    "id": "Jt-aMYeKLRn0"
   },
   "source": [
    "## Random Forest"
   ]
  },
  {
   "cell_type": "code",
   "execution_count": 277,
   "metadata": {
    "colab": {
     "base_uri": "https://localhost:8080/"
    },
    "id": "RiFpjsh2jfRZ",
    "outputId": "51f7b67e-74c0-4b96-822a-ec247b43948f"
   },
   "outputs": [
    {
     "name": "stdout",
     "output_type": "stream",
     "text": [
      "Classification report: \n",
      "               precision    recall  f1-score   support\n",
      "\n",
      "           1      0.985     0.985     0.985       747\n",
      "           2      0.980     0.980     0.980       545\n",
      "\n",
      "    accuracy                          0.983      1292\n",
      "   macro avg      0.983     0.983     0.983      1292\n",
      "weighted avg      0.983     0.983     0.983      1292\n",
      "\n"
     ]
    }
   ],
   "source": [
    "clf_rf = RandomForestClassifier(random_state=0)\n",
    "\n",
    "# Train  the model\n",
    "clf_rf.fit(X_train_vec, y_train)\n",
    "\n",
    "# Predict the labels of the test instances\n",
    "y_pred = clf_rf.predict(X_test_vec)\n",
    "\n",
    "# Evaluating a classifier\n",
    "print('Classification report:', '\\n', classification_report(y_test, y_pred, digits=3))\n",
    "f1_randomforest = f1_score(y_test, y_pred)"
   ]
  },
  {
   "cell_type": "code",
   "execution_count": 278,
   "metadata": {
    "colab": {
     "base_uri": "https://localhost:8080/"
    },
    "id": "fye52VDOLju1",
    "outputId": "d90e19c9-3fef-4006-f747-87e29ab44030"
   },
   "outputs": [
    {
     "name": "stdout",
     "output_type": "stream",
     "text": [
      "Confusion matrix: \n",
      " [[736  11]\n",
      " [ 11 534]]\n"
     ]
    }
   ],
   "source": [
    "# Print the confusion matrix\n",
    "cm_randomforest = confusion_matrix(y_test, y_pred)\n",
    "print('Confusion matrix:', '\\n', cm_randomforest)"
   ]
  },
  {
   "cell_type": "code",
   "execution_count": 279,
   "metadata": {
    "colab": {
     "base_uri": "https://localhost:8080/",
     "height": 512
    },
    "id": "1m7iT8GMMXto",
    "outputId": "fff8e0ec-5fbb-448b-b562-63aaa10aaa46"
   },
   "outputs": [
    {
     "data": {
      "image/png": "[encoded data removed]",
      "text/plain": [
       "<Figure size 640x480 with 1 Axes>"
      ]
     },
     "metadata": {},
     "output_type": "display_data"
    }
   ],
   "source": [
    "# Print the confusion matrix in a pretty way\n",
    "plt.clf()\n",
    "plt.imshow(cm_randomforest, interpolation='nearest', cmap=plt.cm.summer)\n",
    "class_names = ['Negative','Positive']\n",
    "plt.title('Random Forest Confusion Matrix')\n",
    "plt.ylabel('True label')\n",
    "plt.xlabel('Predicted label')\n",
    "tick_marks = np.arange(len(class_names))\n",
    "plt.xticks(tick_marks, class_names, rotation=45)\n",
    "plt.yticks(tick_marks, class_names)\n",
    "s = [['TN','FP'], ['FN', 'TP']]\n",
    "\n",
    "for i in range(2):\n",
    "    for j in range(2):\n",
    "        plt.text(j,i, str(s[i][j])+\" = \"+str(cm_randomforest[i][j]))\n",
    "plt.show()"
   ]
  },
  {
   "cell_type": "markdown",
   "metadata": {
    "id": "-z-r0Gd5UH_s"
   },
   "source": [
    "## Compare the models"
   ]
  },
  {
   "cell_type": "code",
   "execution_count": 280,
   "metadata": {
    "colab": {
     "base_uri": "https://localhost:8080/"
    },
    "id": "EhWSotRuP8hc",
    "outputId": "764794eb-136d-4788-a8d8-7fa785e99d92"
   },
   "outputs": [
    {
     "name": "stdout",
     "output_type": "stream",
     "text": [
      "Logistic Regression: 0.9879518072289156\n",
      "Perceptron: 0.9718032786885247\n",
      "Decision Tree: 0.9644533869885983\n",
      "Random Forest: 0.9852744310575636\n",
      "Multinominal NB: 0.9819397993311038\n"
     ]
    }
   ],
   "source": [
    "# Compare models using f1 score\n",
    "print(\"Logistic Regression: {}\\nPerceptron: {}\\nDecision Tree: {}\\nRandom Forest: {}\\nMultinominal NB: {}\".format(\n",
    "    f1_logreg,\n",
    "    f1_perceptron,\n",
    "    f1_decisiontree,\n",
    "    f1_randomforest,\n",
    "    f1_nb), sep='/n')"
   ]
  },
  {
   "cell_type": "markdown",
   "metadata": {
    "id": "CjsHjha2Kqbl"
   },
   "source": [
    "### Multinimonal Naive Bayes with GridSearchCV"
   ]
  },
  {
   "cell_type": "code",
   "execution_count": 281,
   "metadata": {
    "colab": {
     "base_uri": "https://localhost:8080/",
     "height": 557
    },
    "id": "iESU84jWWwnI",
    "outputId": "6c568006-4983-4f9e-be25-2a3e8f0df8d4"
   },
   "outputs": [
    {
     "data": {
      "text/html": [
       "\n",
       "  <div id=\"df-f92f70a9-1def-431b-aabb-d4d0484ea7f7\">\n",
       "    <div class=\"colab-df-container\">\n",
       "      <div>\n",
       "<style scoped>\n",
       "    .dataframe tbody tr th:only-of-type {\n",
       "        vertical-align: middle;\n",
       "    }\n",
       "\n",
       "    .dataframe tbody tr th {\n",
       "        vertical-align: top;\n",
       "    }\n",
       "\n",
       "    .dataframe thead th {\n",
       "        text-align: right;\n",
       "    }\n",
       "</style>\n",
       "<table border=\"1\" class=\"dataframe\">\n",
       "  <thead>\n",
       "    <tr style=\"text-align: right;\">\n",
       "      <th></th>\n",
       "      <th>mean_fit_time</th>\n",
       "      <th>std_fit_time</th>\n",
       "      <th>mean_score_time</th>\n",
       "      <th>std_score_time</th>\n",
       "      <th>param_alpha</th>\n",
       "      <th>params</th>\n",
       "      <th>split0_test_score</th>\n",
       "      <th>split1_test_score</th>\n",
       "      <th>split2_test_score</th>\n",
       "      <th>split3_test_score</th>\n",
       "      <th>...</th>\n",
       "      <th>mean_test_score</th>\n",
       "      <th>std_test_score</th>\n",
       "      <th>rank_test_score</th>\n",
       "      <th>split0_train_score</th>\n",
       "      <th>split1_train_score</th>\n",
       "      <th>split2_train_score</th>\n",
       "      <th>split3_train_score</th>\n",
       "      <th>split4_train_score</th>\n",
       "      <th>mean_train_score</th>\n",
       "      <th>std_train_score</th>\n",
       "    </tr>\n",
       "  </thead>\n",
       "  <tbody>\n",
       "    <tr>\n",
       "      <th>0</th>\n",
       "      <td>0.012033</td>\n",
       "      <td>0.003234</td>\n",
       "      <td>0.003918</td>\n",
       "      <td>0.000184</td>\n",
       "      <td>0.01</td>\n",
       "      <td>{'alpha': 0.01}</td>\n",
       "      <td>0.968934</td>\n",
       "      <td>0.968986</td>\n",
       "      <td>0.973154</td>\n",
       "      <td>0.978114</td>\n",
       "      <td>...</td>\n",
       "      <td>0.972075</td>\n",
       "      <td>0.003401</td>\n",
       "      <td>7</td>\n",
       "      <td>0.974542</td>\n",
       "      <td>0.974327</td>\n",
       "      <td>0.973668</td>\n",
       "      <td>0.972666</td>\n",
       "      <td>0.972871</td>\n",
       "      <td>0.973615</td>\n",
       "      <td>0.000751</td>\n",
       "    </tr>\n",
       "    <tr>\n",
       "      <th>1</th>\n",
       "      <td>0.010747</td>\n",
       "      <td>0.000387</td>\n",
       "      <td>0.004098</td>\n",
       "      <td>0.000232</td>\n",
       "      <td>0.109</td>\n",
       "      <td>{'alpha': 0.109}</td>\n",
       "      <td>0.968067</td>\n",
       "      <td>0.969799</td>\n",
       "      <td>0.973154</td>\n",
       "      <td>0.977254</td>\n",
       "      <td>...</td>\n",
       "      <td>0.971718</td>\n",
       "      <td>0.003215</td>\n",
       "      <td>9</td>\n",
       "      <td>0.974542</td>\n",
       "      <td>0.974100</td>\n",
       "      <td>0.973451</td>\n",
       "      <td>0.972234</td>\n",
       "      <td>0.972655</td>\n",
       "      <td>0.973396</td>\n",
       "      <td>0.000862</td>\n",
       "    </tr>\n",
       "    <tr>\n",
       "      <th>2</th>\n",
       "      <td>0.010765</td>\n",
       "      <td>0.000352</td>\n",
       "      <td>0.004972</td>\n",
       "      <td>0.001746</td>\n",
       "      <td>0.208</td>\n",
       "      <td>{'alpha': 0.20800000000000002}</td>\n",
       "      <td>0.968067</td>\n",
       "      <td>0.969799</td>\n",
       "      <td>0.972292</td>\n",
       "      <td>0.977254</td>\n",
       "      <td>...</td>\n",
       "      <td>0.971545</td>\n",
       "      <td>0.003156</td>\n",
       "      <td>11</td>\n",
       "      <td>0.973895</td>\n",
       "      <td>0.973656</td>\n",
       "      <td>0.973224</td>\n",
       "      <td>0.972655</td>\n",
       "      <td>0.972655</td>\n",
       "      <td>0.973217</td>\n",
       "      <td>0.000507</td>\n",
       "    </tr>\n",
       "    <tr>\n",
       "      <th>3</th>\n",
       "      <td>0.010431</td>\n",
       "      <td>0.000510</td>\n",
       "      <td>0.004169</td>\n",
       "      <td>0.000397</td>\n",
       "      <td>0.307</td>\n",
       "      <td>{'alpha': 0.30700000000000005}</td>\n",
       "      <td>0.968067</td>\n",
       "      <td>0.969799</td>\n",
       "      <td>0.972292</td>\n",
       "      <td>0.978078</td>\n",
       "      <td>...</td>\n",
       "      <td>0.971710</td>\n",
       "      <td>0.003457</td>\n",
       "      <td>10</td>\n",
       "      <td>0.973884</td>\n",
       "      <td>0.973645</td>\n",
       "      <td>0.973623</td>\n",
       "      <td>0.972427</td>\n",
       "      <td>0.973269</td>\n",
       "      <td>0.973370</td>\n",
       "      <td>0.000511</td>\n",
       "    </tr>\n",
       "    <tr>\n",
       "      <th>4</th>\n",
       "      <td>0.010428</td>\n",
       "      <td>0.000358</td>\n",
       "      <td>0.003985</td>\n",
       "      <td>0.000124</td>\n",
       "      <td>0.406</td>\n",
       "      <td>{'alpha': 0.406}</td>\n",
       "      <td>0.968881</td>\n",
       "      <td>0.970613</td>\n",
       "      <td>0.972292</td>\n",
       "      <td>0.978078</td>\n",
       "      <td>...</td>\n",
       "      <td>0.972036</td>\n",
       "      <td>0.003210</td>\n",
       "      <td>8</td>\n",
       "      <td>0.974089</td>\n",
       "      <td>0.973645</td>\n",
       "      <td>0.974034</td>\n",
       "      <td>0.972620</td>\n",
       "      <td>0.973463</td>\n",
       "      <td>0.973570</td>\n",
       "      <td>0.000530</td>\n",
       "    </tr>\n",
       "    <tr>\n",
       "      <th>5</th>\n",
       "      <td>0.010609</td>\n",
       "      <td>0.000459</td>\n",
       "      <td>0.003926</td>\n",
       "      <td>0.000146</td>\n",
       "      <td>0.505</td>\n",
       "      <td>{'alpha': 0.505}</td>\n",
       "      <td>0.968881</td>\n",
       "      <td>0.970563</td>\n",
       "      <td>0.973109</td>\n",
       "      <td>0.978078</td>\n",
       "      <td>...</td>\n",
       "      <td>0.972189</td>\n",
       "      <td>0.003244</td>\n",
       "      <td>6</td>\n",
       "      <td>0.974283</td>\n",
       "      <td>0.974045</td>\n",
       "      <td>0.973818</td>\n",
       "      <td>0.973235</td>\n",
       "      <td>0.973463</td>\n",
       "      <td>0.973769</td>\n",
       "      <td>0.000380</td>\n",
       "    </tr>\n",
       "    <tr>\n",
       "      <th>6</th>\n",
       "      <td>0.011018</td>\n",
       "      <td>0.000782</td>\n",
       "      <td>0.004854</td>\n",
       "      <td>0.000973</td>\n",
       "      <td>0.604</td>\n",
       "      <td>{'alpha': 0.6040000000000001}</td>\n",
       "      <td>0.968013</td>\n",
       "      <td>0.970563</td>\n",
       "      <td>0.973928</td>\n",
       "      <td>0.978903</td>\n",
       "      <td>...</td>\n",
       "      <td>0.972509</td>\n",
       "      <td>0.003709</td>\n",
       "      <td>5</td>\n",
       "      <td>0.974283</td>\n",
       "      <td>0.974251</td>\n",
       "      <td>0.973818</td>\n",
       "      <td>0.973224</td>\n",
       "      <td>0.973246</td>\n",
       "      <td>0.973764</td>\n",
       "      <td>0.000462</td>\n",
       "    </tr>\n",
       "    <tr>\n",
       "      <th>7</th>\n",
       "      <td>0.010181</td>\n",
       "      <td>0.000598</td>\n",
       "      <td>0.003826</td>\n",
       "      <td>0.000216</td>\n",
       "      <td>0.703</td>\n",
       "      <td>{'alpha': 0.7030000000000001}</td>\n",
       "      <td>0.968829</td>\n",
       "      <td>0.970563</td>\n",
       "      <td>0.974747</td>\n",
       "      <td>0.978903</td>\n",
       "      <td>...</td>\n",
       "      <td>0.972661</td>\n",
       "      <td>0.003692</td>\n",
       "      <td>3</td>\n",
       "      <td>0.974272</td>\n",
       "      <td>0.974662</td>\n",
       "      <td>0.973384</td>\n",
       "      <td>0.973429</td>\n",
       "      <td>0.973656</td>\n",
       "      <td>0.973881</td>\n",
       "      <td>0.000503</td>\n",
       "    </tr>\n",
       "    <tr>\n",
       "      <th>8</th>\n",
       "      <td>0.011044</td>\n",
       "      <td>0.001415</td>\n",
       "      <td>0.004455</td>\n",
       "      <td>0.000750</td>\n",
       "      <td>0.802</td>\n",
       "      <td>{'alpha': 0.802}</td>\n",
       "      <td>0.968829</td>\n",
       "      <td>0.970563</td>\n",
       "      <td>0.974747</td>\n",
       "      <td>0.978903</td>\n",
       "      <td>...</td>\n",
       "      <td>0.972651</td>\n",
       "      <td>0.003698</td>\n",
       "      <td>4</td>\n",
       "      <td>0.974056</td>\n",
       "      <td>0.974857</td>\n",
       "      <td>0.973590</td>\n",
       "      <td>0.973418</td>\n",
       "      <td>0.973851</td>\n",
       "      <td>0.973954</td>\n",
       "      <td>0.000502</td>\n",
       "    </tr>\n",
       "    <tr>\n",
       "      <th>9</th>\n",
       "      <td>0.010892</td>\n",
       "      <td>0.000363</td>\n",
       "      <td>0.003999</td>\n",
       "      <td>0.000121</td>\n",
       "      <td>0.901</td>\n",
       "      <td>{'alpha': 0.901}</td>\n",
       "      <td>0.969646</td>\n",
       "      <td>0.971429</td>\n",
       "      <td>0.974705</td>\n",
       "      <td>0.978903</td>\n",
       "      <td>...</td>\n",
       "      <td>0.972979</td>\n",
       "      <td>0.003442</td>\n",
       "      <td>1</td>\n",
       "      <td>0.974262</td>\n",
       "      <td>0.974641</td>\n",
       "      <td>0.973362</td>\n",
       "      <td>0.973623</td>\n",
       "      <td>0.973851</td>\n",
       "      <td>0.973948</td>\n",
       "      <td>0.000455</td>\n",
       "    </tr>\n",
       "    <tr>\n",
       "      <th>10</th>\n",
       "      <td>0.010553</td>\n",
       "      <td>0.000365</td>\n",
       "      <td>0.004059</td>\n",
       "      <td>0.000104</td>\n",
       "      <td>1.0</td>\n",
       "      <td>{'alpha': 1.0}</td>\n",
       "      <td>0.969646</td>\n",
       "      <td>0.971429</td>\n",
       "      <td>0.974705</td>\n",
       "      <td>0.978903</td>\n",
       "      <td>...</td>\n",
       "      <td>0.972979</td>\n",
       "      <td>0.003442</td>\n",
       "      <td>1</td>\n",
       "      <td>0.974262</td>\n",
       "      <td>0.974413</td>\n",
       "      <td>0.973362</td>\n",
       "      <td>0.973407</td>\n",
       "      <td>0.973840</td>\n",
       "      <td>0.973856</td>\n",
       "      <td>0.000429</td>\n",
       "    </tr>\n",
       "  </tbody>\n",
       "</table>\n",
       "<p>11 rows × 21 columns</p>\n",
       "</div>\n",
       "      <button class=\"colab-df-convert\" onclick=\"convertToInteractive('df-f92f70a9-1def-431b-aabb-d4d0484ea7f7')\"\n",
       "              title=\"Convert this dataframe to an interactive table.\"\n",
       "              style=\"display:none;\">\n",
       "        \n",
       "  <svg xmlns=\"http://www.w3.org/2000/svg\" height=\"24px\"viewBox=\"0 0 24 24\"\n",
       "       width=\"24px\">\n",
       "    <path d=\"M0 0h24v24H0V0z\" fill=\"none\"/>\n",
       "    <path d=\"M18.56 5.44l.94 2.06.94-2.06 2.06-.94-2.06-.94-.94-2.06-.94 2.06-2.06.94zm-11 1L8.5 8.5l.94-2.06 2.06-.94-2.06-.94L8.5 2.5l-.94 2.06-2.06.94zm10 10l.94 2.06.94-2.06 2.06-.94-2.06-.94-.94-2.06-.94 2.06-2.06.94z\"/><path d=\"M17.41 7.96l-1.37-1.37c-.4-.4-.92-.59-1.43-.59-.52 0-1.04.2-1.43.59L10.3 9.45l-7.72 7.72c-.78.78-.78 2.05 0 2.83L4 21.41c.39.39.9.59 1.41.59.51 0 1.02-.2 1.41-.59l7.78-7.78 2.81-2.81c.8-.78.8-2.07 0-2.86zM5.41 20L4 18.59l7.72-7.72 1.47 1.35L5.41 20z\"/>\n",
       "  </svg>\n",
       "      </button>\n",
       "      \n",
       "  <style>\n",
       "    .colab-df-container {\n",
       "      display:flex;\n",
       "      flex-wrap:wrap;\n",
       "      gap: 12px;\n",
       "    }\n",
       "\n",
       "    .colab-df-convert {\n",
       "      background-color: #E8F0FE;\n",
       "      border: none;\n",
       "      border-radius: 50%;\n",
       "      cursor: pointer;\n",
       "      display: none;\n",
       "      fill: #1967D2;\n",
       "      height: 32px;\n",
       "      padding: 0 0 0 0;\n",
       "      width: 32px;\n",
       "    }\n",
       "\n",
       "    .colab-df-convert:hover {\n",
       "      background-color: #E2EBFA;\n",
       "      box-shadow: 0px 1px 2px rgba(60, 64, 67, 0.3), 0px 1px 3px 1px rgba(60, 64, 67, 0.15);\n",
       "      fill: #174EA6;\n",
       "    }\n",
       "\n",
       "    [theme=dark] .colab-df-convert {\n",
       "      background-color: #3B4455;\n",
       "      fill: #D2E3FC;\n",
       "    }\n",
       "\n",
       "    [theme=dark] .colab-df-convert:hover {\n",
       "      background-color: #434B5C;\n",
       "      box-shadow: 0px 1px 3px 1px rgba(0, 0, 0, 0.15);\n",
       "      filter: drop-shadow(0px 1px 2px rgba(0, 0, 0, 0.3));\n",
       "      fill: #FFFFFF;\n",
       "    }\n",
       "  </style>\n",
       "\n",
       "      <script>\n",
       "        const buttonEl =\n",
       "          document.querySelector('#df-f92f70a9-1def-431b-aabb-d4d0484ea7f7 button.colab-df-convert');\n",
       "        buttonEl.style.display =\n",
       "          google.colab.kernel.accessAllowed ? 'block' : 'none';\n",
       "\n",
       "        async function convertToInteractive(key) {\n",
       "          const element = document.querySelector('#df-f92f70a9-1def-431b-aabb-d4d0484ea7f7');\n",
       "          const dataTable =\n",
       "            await google.colab.kernel.invokeFunction('convertToInteractive',\n",
       "                                                     [key], {});\n",
       "          if (!dataTable) return;\n",
       "\n",
       "          const docLinkHtml = 'Like what you see? Visit the ' +\n",
       "            '<a target=\"_blank\" href=https://colab.research.google.com/notebooks/data_table.ipynb>data table notebook</a>'\n",
       "            + ' to learn more about interactive tables.';\n",
       "          element.innerHTML = '';\n",
       "          dataTable['output_type'] = 'display_data';\n",
       "          await google.colab.output.renderOutput(dataTable, element);\n",
       "          const docLink = document.createElement('div');\n",
       "          docLink.innerHTML = docLinkHtml;\n",
       "          element.appendChild(docLink);\n",
       "        }\n",
       "      </script>\n",
       "    </div>\n",
       "  </div>\n",
       "  "
      ],
      "text/plain": [
       "    mean_fit_time  std_fit_time  mean_score_time  std_score_time param_alpha  \\\n",
       "0        0.012033      0.003234         0.003918        0.000184        0.01   \n",
       "1        0.010747      0.000387         0.004098        0.000232       0.109   \n",
       "2        0.010765      0.000352         0.004972        0.001746       0.208   \n",
       "3        0.010431      0.000510         0.004169        0.000397       0.307   \n",
       "4        0.010428      0.000358         0.003985        0.000124       0.406   \n",
       "5        0.010609      0.000459         0.003926        0.000146       0.505   \n",
       "6        0.011018      0.000782         0.004854        0.000973       0.604   \n",
       "7        0.010181      0.000598         0.003826        0.000216       0.703   \n",
       "8        0.011044      0.001415         0.004455        0.000750       0.802   \n",
       "9        0.010892      0.000363         0.003999        0.000121       0.901   \n",
       "10       0.010553      0.000365         0.004059        0.000104         1.0   \n",
       "\n",
       "                            params  split0_test_score  split1_test_score  \\\n",
       "0                  {'alpha': 0.01}           0.968934           0.968986   \n",
       "1                 {'alpha': 0.109}           0.968067           0.969799   \n",
       "2   {'alpha': 0.20800000000000002}           0.968067           0.969799   \n",
       "3   {'alpha': 0.30700000000000005}           0.968067           0.969799   \n",
       "4                 {'alpha': 0.406}           0.968881           0.970613   \n",
       "5                 {'alpha': 0.505}           0.968881           0.970563   \n",
       "6    {'alpha': 0.6040000000000001}           0.968013           0.970563   \n",
       "7    {'alpha': 0.7030000000000001}           0.968829           0.970563   \n",
       "8                 {'alpha': 0.802}           0.968829           0.970563   \n",
       "9                 {'alpha': 0.901}           0.969646           0.971429   \n",
       "10                  {'alpha': 1.0}           0.969646           0.971429   \n",
       "\n",
       "    split2_test_score  split3_test_score  ...  mean_test_score  \\\n",
       "0            0.973154           0.978114  ...         0.972075   \n",
       "1            0.973154           0.977254  ...         0.971718   \n",
       "2            0.972292           0.977254  ...         0.971545   \n",
       "3            0.972292           0.978078  ...         0.971710   \n",
       "4            0.972292           0.978078  ...         0.972036   \n",
       "5            0.973109           0.978078  ...         0.972189   \n",
       "6            0.973928           0.978903  ...         0.972509   \n",
       "7            0.974747           0.978903  ...         0.972661   \n",
       "8            0.974747           0.978903  ...         0.972651   \n",
       "9            0.974705           0.978903  ...         0.972979   \n",
       "10           0.974705           0.978903  ...         0.972979   \n",
       "\n",
       "    std_test_score  rank_test_score  split0_train_score  split1_train_score  \\\n",
       "0         0.003401                7            0.974542            0.974327   \n",
       "1         0.003215                9            0.974542            0.974100   \n",
       "2         0.003156               11            0.973895            0.973656   \n",
       "3         0.003457               10            0.973884            0.973645   \n",
       "4         0.003210                8            0.974089            0.973645   \n",
       "5         0.003244                6            0.974283            0.974045   \n",
       "6         0.003709                5            0.974283            0.974251   \n",
       "7         0.003692                3            0.974272            0.974662   \n",
       "8         0.003698                4            0.974056            0.974857   \n",
       "9         0.003442                1            0.974262            0.974641   \n",
       "10        0.003442                1            0.974262            0.974413   \n",
       "\n",
       "    split2_train_score  split3_train_score  split4_train_score  \\\n",
       "0             0.973668            0.972666            0.972871   \n",
       "1             0.973451            0.972234            0.972655   \n",
       "2             0.973224            0.972655            0.972655   \n",
       "3             0.973623            0.972427            0.973269   \n",
       "4             0.974034            0.972620            0.973463   \n",
       "5             0.973818            0.973235            0.973463   \n",
       "6             0.973818            0.973224            0.973246   \n",
       "7             0.973384            0.973429            0.973656   \n",
       "8             0.973590            0.973418            0.973851   \n",
       "9             0.973362            0.973623            0.973851   \n",
       "10            0.973362            0.973407            0.973840   \n",
       "\n",
       "    mean_train_score  std_train_score  \n",
       "0           0.973615         0.000751  \n",
       "1           0.973396         0.000862  \n",
       "2           0.973217         0.000507  \n",
       "3           0.973370         0.000511  \n",
       "4           0.973570         0.000530  \n",
       "5           0.973769         0.000380  \n",
       "6           0.973764         0.000462  \n",
       "7           0.973881         0.000503  \n",
       "8           0.973954         0.000502  \n",
       "9           0.973948         0.000455  \n",
       "10          0.973856         0.000429  \n",
       "\n",
       "[11 rows x 21 columns]"
      ]
     },
     "execution_count": 281,
     "metadata": {},
     "output_type": "execute_result"
    }
   ],
   "source": [
    "# As Multinominam NB showed the worst results, let's try to fine-tune the model (maybe we can get the best results across all the models??)\n",
    "parameters = [a for a in np.linspace(0.01,1,11)]\n",
    "\n",
    "clf = GridSearchCV(estimator=MultinomialNB(), \n",
    "                   param_grid={'alpha':parameters},\n",
    "                   scoring='f1',\n",
    "                   return_train_score=True,\n",
    "                   cv=5, \n",
    "                  )\n",
    "\n",
    "# Start the search over the hyperparameters\n",
    "clf.fit(X_train_vec, y_train)\n",
    "\n",
    "# Print the results\n",
    "cv_res = pd.DataFrame(clf.cv_results_)\n",
    "cv_res"
   ]
  },
  {
   "cell_type": "code",
   "execution_count": 282,
   "metadata": {
    "colab": {
     "base_uri": "https://localhost:8080/"
    },
    "id": "BkUzmX3Yh-Cx",
    "outputId": "da679e09-83c5-4bdb-976c-8ccec38f0329"
   },
   "outputs": [
    {
     "name": "stdout",
     "output_type": "stream",
     "text": [
      "Best score: 0.973\n",
      "Best alpha 0.901\n"
     ]
    }
   ],
   "source": [
    "# Print the best score\n",
    "print(\"Best score: %0.3f\" % clf.best_score_)\n",
    "\n",
    "# Print the best alpha\n",
    "best_parameters = clf.best_estimator_.get_params()\n",
    "print(\"Best alpha\", best_parameters['alpha'])"
   ]
  },
  {
   "cell_type": "markdown",
   "metadata": {
    "id": "H720y-cMNgol"
   },
   "source": [
    "# Training and Testing Top-2 Classifiers"
   ]
  },
  {
   "cell_type": "markdown",
   "metadata": {
    "id": "Luv8Kus5nddn"
   },
   "source": [
    "## CountVectorizer"
   ]
  },
  {
   "cell_type": "code",
   "execution_count": 283,
   "metadata": {
    "id": "NUlikl9Hi0Sz"
   },
   "outputs": [],
   "source": [
    "# Split the data into training and testing sets\n",
    "X = df['tokens_without_sw']\n",
    "y = df['label']\n",
    "X_train, X_test, y_train, y_test = train_test_split(X, y, test_size=0.2, random_state=0, shuffle=True)"
   ]
  },
  {
   "cell_type": "code",
   "execution_count": 284,
   "metadata": {
    "id": "V6XmGGOPi0S8"
   },
   "outputs": [],
   "source": [
    "# Using CountVectorizer to convert words to vectors\n",
    "\n",
    "count_vectorizer = CountVectorizer(max_features=1000,\n",
    "                                   analyzer='word', \n",
    "                                   ngram_range=(1, 3))\n",
    "# Fit the vectorizer to train and test data\n",
    "X_train_vec = count_vectorizer.fit_transform(X_train)\n",
    "X_test_vec = count_vectorizer.transform(X_test)"
   ]
  },
  {
   "cell_type": "code",
   "execution_count": 285,
   "metadata": {
    "colab": {
     "base_uri": "https://localhost:8080/"
    },
    "id": "0Ov9FdnGi0S8",
    "outputId": "a34bb24d-0330-4a6c-c590-de0bc25c6050"
   },
   "outputs": [
    {
     "name": "stdout",
     "output_type": "stream",
     "text": [
      "['ability' 'able' 'absolute' 'academic' 'academy' 'academy science'\n",
      " 'accepted' 'according' 'account' 'achievement' 'act' 'action' 'active'\n",
      " 'activity' 'adam' 'addition' 'advanced' 'aesthetic' 'affair' 'age' 'air'\n",
      " 'albert' 'alexander' 'allowed' 'almost' 'along' 'already' 'also'\n",
      " 'although' 'always' 'america' 'american' 'among' 'analysis' 'ancient'\n",
      " 'animal' 'another' 'appeared' 'appears' 'application' 'applied'\n",
      " 'appointed' 'appointment' 'approach' 'april' 'area' 'argued' 'argues'\n",
      " 'argument' 'aristotle' 'army' 'around' 'art' 'article' 'asked' 'aspect'\n",
      " 'assistant' 'associate' 'associated' 'association' 'astronomy' 'atomic'\n",
      " 'attack' 'attempt' 'attended' 'attention' 'attributed' 'august' 'author'\n",
      " 'authority' 'award' 'awarded' 'away' 'bachelor' 'back' 'based' 'basic'\n",
      " 'basis' 'bc' 'became' 'become' 'becoming' 'began' 'beginning' 'being'\n",
      " 'belief' 'believe' 'believed' 'berkeley' 'berlin' 'best' 'best known'\n",
      " 'better' 'beyond' 'biography' 'birth' 'bishop' 'black' 'board' 'body'\n",
      " 'bohr' 'book' 'born' 'british' 'brother' 'brought' 'buddha' 'buddhist'\n",
      " 'building' 'built' 'california' 'call' 'called' 'cambridge' 'came'\n",
      " 'canada' 'career' 'case' 'catholic' 'cause' 'caused' 'center' 'central'\n",
      " 'centre' 'century' 'certain' 'chair' 'change' 'chapter' 'character'\n",
      " 'charge' 'charles' 'chemistry' 'chicago' 'chief' 'child' 'china'\n",
      " 'chinese' 'choice' 'christ' 'christian' 'christianity' 'church' 'circle'\n",
      " 'citation' 'citation needed' 'cited' 'city' 'civil' 'claim' 'claimed'\n",
      " 'class' 'classical' 'clear' 'close' 'colleague' 'collection' 'college'\n",
      " 'columbia' 'come' 'commentary' 'commission' 'committee' 'common'\n",
      " 'communication' 'communist' 'community' 'company' 'complete' 'completed'\n",
      " 'complex' 'computer' 'concept' 'conception' 'concern' 'concerned'\n",
      " 'concerning' 'condition' 'conference' 'conflict' 'congress' 'connection'\n",
      " 'consciousness' 'considered' 'contemporary' 'content' 'context'\n",
      " 'continued' 'contrast' 'contributed' 'contribution' 'control'\n",
      " 'controversy' 'could' 'council' 'country' 'course' 'court' 'create'\n",
      " 'created' 'creation' 'critic' 'critical' 'criticism' 'criticized'\n",
      " 'critique' 'cultural' 'culture' 'current' 'currently' 'date' 'daughter'\n",
      " 'david' 'day' 'de' 'death' 'debate' 'decade' 'december' 'decided'\n",
      " 'decision' 'definition' 'degree' 'democracy' 'democratic' 'department'\n",
      " 'der' 'described' 'describes' 'description' 'design' 'desire' 'despite'\n",
      " 'develop' 'developed' 'development' 'devoted' 'dialogue' 'die' 'died'\n",
      " 'difference' 'different' 'direct' 'direction' 'director' 'disciple'\n",
      " 'discourse' 'discovered' 'discovery' 'discussion' 'dissertation'\n",
      " 'distinction' 'distinguished' 'divine' 'division' 'doctor' 'doctoral'\n",
      " 'doctorate' 'doctrine' 'due' 'dynamic' 'earlier' 'early' 'earned' 'earth'\n",
      " 'east' 'economic' 'economics' 'edited' 'edition' 'editor' 'educated'\n",
      " 'education' 'edward' 'effect' 'effort' 'einstein' 'either' 'elected'\n",
      " 'elected fellow' 'electron' 'element' 'emeritus' 'emperor' 'empire' 'end'\n",
      " 'energy' 'engineer' 'engineering' 'england' 'english' 'entered'\n",
      " 'entitled' 'epistemology' 'equation' 'especially' 'essay' 'established'\n",
      " 'et' 'ethic' 'ethical' 'europe' 'european' 'even' 'event' 'eventually'\n",
      " 'ever' 'every' 'evidence' 'evil' 'evolution' 'example' 'exist'\n",
      " 'existence' 'experience' 'experiment' 'experimental' 'explain'\n",
      " 'explanation' 'expressed' 'fact' 'faculty' 'faith' 'fall' 'family'\n",
      " 'famous' 'far' 'father' 'february' 'fellow' 'fellowship' 'felt'\n",
      " 'feminist' 'field' 'figure' 'film' 'final' 'finally' 'find' 'first'\n",
      " 'five' 'focus' 'focused' 'followed' 'follower' 'following' 'force'\n",
      " 'foreign' 'form' 'formal' 'formed' 'former' 'found' 'foundation'\n",
      " 'founded' 'founder' 'founding' 'four' 'fr' 'france' 'free' 'freedom'\n",
      " 'french' 'friedrich' 'friend' 'full' 'function' 'fundamental' 'future'\n",
      " 'gandhi' 'gave' 'general' 'generally' 'generation' 'george' 'german'\n",
      " 'germany' 'give' 'given' 'go' 'god' 'good' 'government' 'graduate'\n",
      " 'graduated' 'great' 'greatest' 'greek' 'ground' 'group' 'han' 'hand'\n",
      " 'harvard' 'head' 'health' 'hegel' 'held' 'help' 'helped' 'henry' 'high'\n",
      " 'high school' 'higher' 'highly' 'historian' 'historical' 'history' 'hold'\n",
      " 'home' 'honor' 'honorary' 'honour' 'house' 'however' 'human' 'humanity'\n",
      " 'hume' 'ibn' 'idea' 'ideal' 'identity' 'ii' 'image' 'importance'\n",
      " 'important' 'include' 'included' 'including' 'independent' 'india'\n",
      " 'indian' 'individual' 'influence' 'influenced' 'influential'\n",
      " 'information' 'inspired' 'instead' 'institute' 'institution'\n",
      " 'intellectual' 'intelligence' 'interaction' 'interest' 'interested'\n",
      " 'international' 'interpretation' 'introduced' 'introduction'\n",
      " 'investigation' 'invited' 'involved' 'islamic' 'issue' 'italian' 'italy'\n",
      " 'james' 'january' 'jefferson' 'jesus' 'jew' 'jewish' 'john' 'johnson'\n",
      " 'joined' 'joseph' 'journal' 'july' 'june' 'justice' 'kant' 'karl' 'key'\n",
      " 'kind' 'king' 'kingdom' 'know' 'knowledge' 'known' 'la' 'laboratory'\n",
      " 'lack' 'land' 'language' 'large' 'largely' 'last' 'late' 'later' 'latin'\n",
      " 'latter' 'law' 'le' 'lead' 'leader' 'leading' 'learned' 'learning'\n",
      " 'least' 'lecture' 'lecturer' 'led' 'lee' 'left' 'legal' 'leibniz'\n",
      " 'letter' 'level' 'liberal' 'library' 'life' 'light' 'like' 'line' 'list'\n",
      " 'literary' 'literature' 'little' 'live' 'lived' 'living' 'local' 'logic'\n",
      " 'logical' 'london' 'long' 'lord' 'lost' 'louis' 'love' 'made' 'magazine'\n",
      " 'main' 'major' 'make' 'making' 'man' 'manuscript' 'many' 'march' 'mark'\n",
      " 'marriage' 'married' 'martin' 'marx' 'mary' 'mass' 'master' 'material'\n",
      " 'mathematical' 'mathematician' 'mathematics' 'matter' 'max' 'may' 'mean'\n",
      " 'meaning' 'mechanic' 'medal' 'medical' 'medicine' 'medieval' 'medium'\n",
      " 'meeting' 'member' 'men' 'mental' 'met' 'metaphysics' 'method' 'michael'\n",
      " 'middle' 'might' 'military' 'mind' 'minister' 'model' 'modern' 'month'\n",
      " 'moral' 'morality' 'moscow' 'mother' 'motion' 'moved' 'movement' 'much'\n",
      " 'music' 'muslim' 'must' 'name' 'named' 'nation' 'national' 'natural'\n",
      " 'nature' 'nazi' 'near' 'necessary' 'need' 'needed' 'never' 'new'\n",
      " 'new york' 'next' 'nietzsche' 'nobel' 'nobel prize' 'north' 'notable'\n",
      " 'note' 'noted' 'nothing' 'notion' 'novel' 'november' 'nuclear' 'number'\n",
      " 'numerous' 'object' 'objective' 'observation' 'obtained' 'october'\n",
      " 'offer' 'offered' 'office' 'official' 'often' 'old' 'one' 'open'\n",
      " 'opinion' 'opposed' 'opposition' 'optic' 'optical' 'order' 'organization'\n",
      " 'origin' 'original' 'orthodox' 'others' 'outside' 'oxford' 'paper'\n",
      " 'parent' 'paris' 'part' 'particle' 'particular' 'particularly' 'party'\n",
      " 'past' 'paul' 'peace' 'people' 'perception' 'perhaps' 'period' 'person'\n",
      " 'personal' 'perspective' 'peter' 'phd' 'phenomenon' 'philosopher'\n",
      " 'philosophical' 'philosophy' 'philosophy science' 'philosophy university'\n",
      " 'physic' 'physic university' 'physical' 'physical society' 'physicist'\n",
      " 'place' 'plato' 'play' 'played' 'poem' 'poet' 'poetry' 'point' 'policy'\n",
      " 'polish' 'political' 'politics' 'pope' 'popular' 'position' 'possibility'\n",
      " 'possible' 'post' 'power' 'practical' 'practice' 'present' 'presented'\n",
      " 'president' 'press' 'previously' 'primary' 'princeton' 'principle'\n",
      " 'prior' 'private' 'prize' 'probably' 'problem' 'process' 'produced'\n",
      " 'production' 'professor' 'professor philosophy' 'professor physic'\n",
      " 'professor university' 'program' 'project' 'prominent' 'property'\n",
      " 'proposed' 'provided' 'psychological' 'psychology' 'public' 'publication'\n",
      " 'published' 'pure' 'purpose' 'put' 'quality' 'quantum' 'question' 'race'\n",
      " 'radiation' 'radical' 'radio' 'raised' 'range' 'rather' 'rational' 'read'\n",
      " 'reader' 'reading' 'real' 'reality' 'reason' 'received' 'recent'\n",
      " 'reference' 'referred' 'reform' 'regard' 'regarded' 'regarding'\n",
      " 'rejected' 'related' 'relation' 'relationship' 'religion' 'religious'\n",
      " 'remained' 'remains' 'report' 'republic' 'research' 'researcher'\n",
      " 'respect' 'response' 'rest' 'result' 'retired' 'return' 'returned'\n",
      " 'review' 'revolution' 'revolutionary' 'richard' 'right' 'robert' 'role'\n",
      " 'roman' 'rome' 'royal' 'royal society' 'rule' 'russell' 'russia'\n",
      " 'russian' 'said' 'saint' 'saw' 'say' 'saying' 'scholar' 'scholarship'\n",
      " 'school' 'science' 'scientific' 'scientist' 'second' 'secretary'\n",
      " 'section' 'see' 'seems' 'seen' 'self' 'senior' 'sense' 'sent' 'september'\n",
      " 'series' 'served' 'service' 'set' 'seven' 'several' 'short' 'show'\n",
      " 'showed' 'side' 'significant' 'similar' 'simply' 'since' 'single'\n",
      " 'sister' 'six' 'small' 'smith' 'social' 'socialist' 'society' 'socrates'\n",
      " 'solution' 'something' 'sometimes' 'son' 'soon' 'sought' 'soul' 'source'\n",
      " 'south' 'soviet' 'space' 'special' 'specific' 'speech' 'spent' 'spirit'\n",
      " 'spiritual' 'st' 'stage' 'standard' 'star' 'started' 'state'\n",
      " 'state university' 'stated' 'statement' 'still' 'story' 'strong'\n",
      " 'structure' 'student' 'studied' 'study' 'studying' 'style' 'subject'\n",
      " 'subsequently' 'suggested' 'sun' 'support' 'supported' 'surface' 'system'\n",
      " 'take' 'taken' 'taking' 'taught' 'teach' 'teacher' 'teaching' 'technical'\n",
      " 'technique' 'technology' 'temple' 'ten' 'term' 'text' 'theologian'\n",
      " 'theological' 'theology' 'theoretical' 'theoretical physic' 'theory'\n",
      " 'therefore' 'thesis' 'thing' 'think' 'thinker' 'thinking' 'third'\n",
      " 'thomas' 'though' 'thought' 'three' 'throughout' 'thus' 'time' 'title'\n",
      " 'titled' 'today' 'together' 'took' 'topic' 'towards' 'town' 'tradition'\n",
      " 'traditional' 'translated' 'translation' 'treatise' 'true' 'truth' 'turn'\n",
      " 'turned' 'two' 'two year' 'type' 'understand' 'understanding'\n",
      " 'understood' 'union' 'united' 'united state' 'universal' 'universe'\n",
      " 'university' 'university california' 'upon' 'use' 'used' 'using' 'value'\n",
      " 'van' 'various' 'version' 'vienna' 'view' 'virtue' 'vision' 'visit'\n",
      " 'visited' 'visiting' 'volume' 'von' 'war' 'war ii' 'washington' 'water'\n",
      " 'wave' 'way' 'well' 'went' 'west' 'western' 'whether' 'white' 'whole'\n",
      " 'whose' 'widely' 'wife' 'wilhelm' 'william' 'within' 'without'\n",
      " 'wittgenstein' 'woman' 'word' 'work' 'worked' 'working' 'world'\n",
      " 'world war' 'world war ii' 'would' 'write' 'writer' 'writes' 'writing'\n",
      " 'written' 'wrote' 'year' 'year later' 'yet' 'york' 'young']\n"
     ]
    }
   ],
   "source": [
    "# Printing out the features\n",
    "features = count_vectorizer.get_feature_names_out()\n",
    "print(features)"
   ]
  },
  {
   "cell_type": "markdown",
   "metadata": {
    "id": "-Di2X79zNnyO"
   },
   "source": [
    "### Logistic Regression with GridSearchCV"
   ]
  },
  {
   "cell_type": "code",
   "execution_count": 286,
   "metadata": {
    "colab": {
     "base_uri": "https://localhost:8080/"
    },
    "id": "nTTWlN1QNmw5",
    "outputId": "b9aa2940-ff07-4b2b-97c3-6c614b4476c7"
   },
   "outputs": [
    {
     "name": "stdout",
     "output_type": "stream",
     "text": [
      "Tuned Hyperparameters:  {'C': 0.01, 'penalty': 'l2', 'solver': 'liblinear'}\n",
      "F1:  0.9819027120091647\n"
     ]
    }
   ],
   "source": [
    "parameters = {\n",
    "    'penalty' : ['none', 'l1', 'l2', 'elasticnet'], \n",
    "    'C'       : [100, 10, 1.0, 0.1, 0.01],\n",
    "    'solver'  : ['newton-cg', 'lbfgs', 'liblinear'],\n",
    "}\n",
    "\n",
    "logreg = LogisticRegression(random_state=0)\n",
    "clf = GridSearchCV(logreg,                    # model\n",
    "                   param_grid = parameters,   # hyperparameters\n",
    "                   scoring='f1',              # metric for scoring\n",
    "                   cv=5)                      # number of folds\n",
    "\n",
    "clf.fit(X_train_vec, y_train)\n",
    "\n",
    "print(\"Tuned Hyperparameters: \", clf.best_params_)\n",
    "print(\"F1: \", clf.best_score_)"
   ]
  },
  {
   "cell_type": "code",
   "execution_count": 327,
   "metadata": {
    "colab": {
     "base_uri": "https://localhost:8080/"
    },
    "id": "18PGE8bYuwko",
    "outputId": "4c14874c-8dc6-4aee-abdb-dbf8f8edd2ea"
   },
   "outputs": [
    {
     "name": "stdout",
     "output_type": "stream",
     "text": [
      "Classification report: \n",
      "               precision    recall  f1-score   support\n",
      "\n",
      "           1      0.898     0.999     0.946       747\n",
      "           2      0.998     0.844     0.915       545\n",
      "\n",
      "    accuracy                          0.933      1292\n",
      "   macro avg      0.948     0.921     0.930      1292\n",
      "weighted avg      0.940     0.933     0.932      1292\n",
      "\n"
     ]
    }
   ],
   "source": [
    "# Using the best parameters\n",
    "clf_log = LogisticRegression(C=0.01, penalty='l2', solver='liblinear', random_state=0)\n",
    "\n",
    "# Train  the model\n",
    "clf_log.fit(X_train_vec, y_train)\n",
    "\n",
    "# Predict the labels of the test instances\n",
    "y_pred = clf_log.predict(X_test_vec)\n",
    "\n",
    "# Evaluating a classifier\n",
    "print('Classification report:', '\\n', classification_report(y_test, y_pred, digits=3))\n",
    "f1_logreg_count = f1_score(y_test, y_pred)"
   ]
  },
  {
   "cell_type": "code",
   "execution_count": 292,
   "metadata": {
    "colab": {
     "base_uri": "https://localhost:8080/"
    },
    "id": "7x1aFhxZuwkw",
    "outputId": "7cc8df50-b375-4622-f367-0a1139e487f0"
   },
   "outputs": [
    {
     "name": "stdout",
     "output_type": "stream",
     "text": [
      "Confusion matrix: \n",
      " [[732  15]\n",
      " [  6 539]]\n"
     ]
    }
   ],
   "source": [
    "# Print the confusion matrix\n",
    "cm_logreg = confusion_matrix(y_test, y_pred)\n",
    "print('Confusion matrix:', '\\n', cm_logreg)"
   ]
  },
  {
   "cell_type": "code",
   "execution_count": 293,
   "metadata": {
    "colab": {
     "base_uri": "https://localhost:8080/",
     "height": 512
    },
    "id": "fjb1eNZVuwkw",
    "outputId": "ddb782e5-c044-40a8-b035-ede80631773b"
   },
   "outputs": [
    {
     "data": {
      "image/png": "[encoded data removed]",
      "text/plain": [
       "<Figure size 640x480 with 1 Axes>"
      ]
     },
     "metadata": {},
     "output_type": "display_data"
    }
   ],
   "source": [
    "# Print the confusion matrix in a pretty way\n",
    "plt.clf()\n",
    "plt.imshow(cm_logreg, interpolation='nearest', cmap=plt.cm.summer)\n",
    "class_names = ['Negative','Positive']\n",
    "plt.title('LogisticRegression Confusion Matrix')\n",
    "plt.ylabel('True label')\n",
    "plt.xlabel('Predicted label')\n",
    "tick_marks = np.arange(len(class_names))\n",
    "plt.xticks(tick_marks, class_names, rotation=45)\n",
    "plt.yticks(tick_marks, class_names)\n",
    "s = [['TN','FP'], ['FN', 'TP']]\n",
    "\n",
    "for i in range(2):\n",
    "    for j in range(2):\n",
    "        plt.text(j,i, str(s[i][j])+\" = \"+str(cm_logreg[i][j]))\n",
    "plt.show()"
   ]
  },
  {
   "cell_type": "markdown",
   "metadata": {
    "id": "h80I2fhvdrDb"
   },
   "source": [
    "### Random Forest with GridSearchCV"
   ]
  },
  {
   "cell_type": "code",
   "execution_count": 307,
   "metadata": {
    "colab": {
     "base_uri": "https://localhost:8080/"
    },
    "id": "ahBn1D8Cc5In",
    "outputId": "2dddd41b-5348-4125-8eea-c3c2f9fef82c"
   },
   "outputs": [
    {
     "name": "stdout",
     "output_type": "stream",
     "text": [
      "Tuned Hyperparameters:  {'criterion': 'gini', 'max_features': 'sqrt', 'n_estimators': 200}\n",
      "F1:  0.9819811193364576\n"
     ]
    }
   ],
   "source": [
    "parameters = {\n",
    "    # 'max_depth': list(range(10, 15)), \n",
    "    'max_features': ['sqrt', 'log2'],\n",
    "    'n_estimators': [100, 200],\n",
    "    'criterion': ['gini', 'entropy', 'log_loss'],\n",
    "}\n",
    "\n",
    "\n",
    "rf = RandomForestClassifier(random_state=0)\n",
    "clf = GridSearchCV(rf,                     # model\n",
    "                   param_grid = parameters,   # hyperparameters\n",
    "                   scoring='f1',              # metric for scoring\n",
    "                   cv=5)                     # number of folds\n",
    "\n",
    "clf.fit(X_train_vec, y_train)\n",
    "\n",
    "print(\"Tuned Hyperparameters: \", clf.best_params_)\n",
    "print(\"F1: \", clf.best_score_)"
   ]
  },
  {
   "cell_type": "code",
   "execution_count": 308,
   "metadata": {
    "colab": {
     "base_uri": "https://localhost:8080/"
    },
    "id": "MMjNUHF3u_nj",
    "outputId": "636841b3-1f74-4508-ef74-277130761496"
   },
   "outputs": [
    {
     "name": "stdout",
     "output_type": "stream",
     "text": [
      "Classification report: \n",
      "               precision    recall  f1-score   support\n",
      "\n",
      "           1      0.985     0.984     0.985       747\n",
      "           2      0.978     0.980     0.979       545\n",
      "\n",
      "    accuracy                          0.982      1292\n",
      "   macro avg      0.982     0.982     0.982      1292\n",
      "weighted avg      0.982     0.982     0.982      1292\n",
      "\n"
     ]
    }
   ],
   "source": [
    "# Using the best parameters\n",
    "clf_rf = RandomForestClassifier(criterion='gini', max_features='sqrt', n_estimators=200, random_state=0)\n",
    "\n",
    "# Train  the model\n",
    "clf_rf.fit(X_train_vec, y_train)\n",
    "\n",
    "# Predict the labels of the test instances\n",
    "y_pred = clf_rf.predict(X_test_vec)\n",
    "\n",
    "# Evaluating a classifier\n",
    "print('Classification report:', '\\n', classification_report(y_test, y_pred, digits=3))\n",
    "f1_randomforest_count = f1_score(y_test, y_pred)"
   ]
  },
  {
   "cell_type": "code",
   "execution_count": 309,
   "metadata": {
    "colab": {
     "base_uri": "https://localhost:8080/"
    },
    "id": "DT60iCZNu_nr",
    "outputId": "e9d2a2cb-8687-4904-e7fc-38e3fc394e77"
   },
   "outputs": [
    {
     "name": "stdout",
     "output_type": "stream",
     "text": [
      "Confusion matrix: \n",
      " [[735  12]\n",
      " [ 11 534]]\n"
     ]
    }
   ],
   "source": [
    "# Print the confusion matrix\n",
    "cm_randomforest = confusion_matrix(y_test, y_pred)\n",
    "print('Confusion matrix:', '\\n', cm_randomforest)"
   ]
  },
  {
   "cell_type": "code",
   "execution_count": 310,
   "metadata": {
    "colab": {
     "base_uri": "https://localhost:8080/",
     "height": 512
    },
    "id": "lHU4cOGvu_ns",
    "outputId": "55889c69-d01e-4095-8f7f-33b215518c25"
   },
   "outputs": [
    {
     "data": {
      "image/png": "[encoded data removed]",
      "text/plain": [
       "<Figure size 640x480 with 1 Axes>"
      ]
     },
     "metadata": {},
     "output_type": "display_data"
    }
   ],
   "source": [
    "# Print the confusion matrix in a pretty way\n",
    "plt.clf()\n",
    "plt.imshow(cm_randomforest, interpolation='nearest', cmap=plt.cm.summer)\n",
    "class_names = ['Negative','Positive']\n",
    "plt.title('Random Forest Confusion Matrix')\n",
    "plt.ylabel('True label')\n",
    "plt.xlabel('Predicted label')\n",
    "tick_marks = np.arange(len(class_names))\n",
    "plt.xticks(tick_marks, class_names, rotation=45)\n",
    "plt.yticks(tick_marks, class_names)\n",
    "s = [['TN','FP'], ['FN', 'TP']]\n",
    "\n",
    "for i in range(2):\n",
    "    for j in range(2):\n",
    "        plt.text(j,i, str(s[i][j])+\" = \"+str(cm_randomforest[i][j]))\n",
    "plt.show()"
   ]
  },
  {
   "cell_type": "markdown",
   "metadata": {
    "id": "YnIHlO6d16ZL"
   },
   "source": [
    "## TFIDF Vectorizer"
   ]
  },
  {
   "cell_type": "code",
   "execution_count": 311,
   "metadata": {
    "id": "JamgUd2w2Goz"
   },
   "outputs": [],
   "source": [
    "# Using TFIDF vectorizer to convert words to vectors\n",
    "tfidf_vectorizer = TfidfVectorizer(max_features=1000,\n",
    "                                    use_idf=True,\n",
    "                                    ngram_range=(1, 3))\n",
    "# Fit the vectorizer to train and test data\n",
    "X_train_vec = tfidf_vectorizer.fit_transform(X_train)\n",
    "X_test_vec = tfidf_vectorizer.transform(X_test)"
   ]
  },
  {
   "cell_type": "code",
   "execution_count": 312,
   "metadata": {
    "colab": {
     "base_uri": "https://localhost:8080/"
    },
    "id": "mju_Ii8I2Go7",
    "outputId": "e41b2ab5-5215-448a-ce2d-4213bd2e97a0"
   },
   "outputs": [
    {
     "name": "stdout",
     "output_type": "stream",
     "text": [
      "['ability' 'able' 'absolute' 'academic' 'academy' 'academy science'\n",
      " 'accepted' 'according' 'account' 'achievement' 'act' 'action' 'active'\n",
      " 'activity' 'adam' 'addition' 'advanced' 'aesthetic' 'affair' 'age' 'air'\n",
      " 'albert' 'alexander' 'allowed' 'almost' 'along' 'already' 'also'\n",
      " 'although' 'always' 'america' 'american' 'among' 'analysis' 'ancient'\n",
      " 'animal' 'another' 'appeared' 'appears' 'application' 'applied'\n",
      " 'appointed' 'appointment' 'approach' 'april' 'area' 'argued' 'argues'\n",
      " 'argument' 'aristotle' 'army' 'around' 'art' 'article' 'asked' 'aspect'\n",
      " 'assistant' 'associate' 'associated' 'association' 'astronomy' 'atomic'\n",
      " 'attack' 'attempt' 'attended' 'attention' 'attributed' 'august' 'author'\n",
      " 'authority' 'award' 'awarded' 'away' 'bachelor' 'back' 'based' 'basic'\n",
      " 'basis' 'bc' 'became' 'become' 'becoming' 'began' 'beginning' 'being'\n",
      " 'belief' 'believe' 'believed' 'berkeley' 'berlin' 'best' 'best known'\n",
      " 'better' 'beyond' 'biography' 'birth' 'bishop' 'black' 'board' 'body'\n",
      " 'bohr' 'book' 'born' 'british' 'brother' 'brought' 'buddha' 'buddhist'\n",
      " 'building' 'built' 'california' 'call' 'called' 'cambridge' 'came'\n",
      " 'canada' 'career' 'case' 'catholic' 'cause' 'caused' 'center' 'central'\n",
      " 'centre' 'century' 'certain' 'chair' 'change' 'chapter' 'character'\n",
      " 'charge' 'charles' 'chemistry' 'chicago' 'chief' 'child' 'china'\n",
      " 'chinese' 'choice' 'christ' 'christian' 'christianity' 'church' 'circle'\n",
      " 'citation' 'citation needed' 'cited' 'city' 'civil' 'claim' 'claimed'\n",
      " 'class' 'classical' 'clear' 'close' 'colleague' 'collection' 'college'\n",
      " 'columbia' 'come' 'commentary' 'commission' 'committee' 'common'\n",
      " 'communication' 'communist' 'community' 'company' 'complete' 'completed'\n",
      " 'complex' 'computer' 'concept' 'conception' 'concern' 'concerned'\n",
      " 'concerning' 'condition' 'conference' 'conflict' 'congress' 'connection'\n",
      " 'consciousness' 'considered' 'contemporary' 'content' 'context'\n",
      " 'continued' 'contrast' 'contributed' 'contribution' 'control'\n",
      " 'controversy' 'could' 'council' 'country' 'course' 'court' 'create'\n",
      " 'created' 'creation' 'critic' 'critical' 'criticism' 'criticized'\n",
      " 'critique' 'cultural' 'culture' 'current' 'currently' 'date' 'daughter'\n",
      " 'david' 'day' 'de' 'death' 'debate' 'decade' 'december' 'decided'\n",
      " 'decision' 'definition' 'degree' 'democracy' 'democratic' 'department'\n",
      " 'der' 'described' 'describes' 'description' 'design' 'desire' 'despite'\n",
      " 'develop' 'developed' 'development' 'devoted' 'dialogue' 'die' 'died'\n",
      " 'difference' 'different' 'direct' 'direction' 'director' 'disciple'\n",
      " 'discourse' 'discovered' 'discovery' 'discussion' 'dissertation'\n",
      " 'distinction' 'distinguished' 'divine' 'division' 'doctor' 'doctoral'\n",
      " 'doctorate' 'doctrine' 'due' 'dynamic' 'earlier' 'early' 'earned' 'earth'\n",
      " 'east' 'economic' 'economics' 'edited' 'edition' 'editor' 'educated'\n",
      " 'education' 'edward' 'effect' 'effort' 'einstein' 'either' 'elected'\n",
      " 'elected fellow' 'electron' 'element' 'emeritus' 'emperor' 'empire' 'end'\n",
      " 'energy' 'engineer' 'engineering' 'england' 'english' 'entered'\n",
      " 'entitled' 'epistemology' 'equation' 'especially' 'essay' 'established'\n",
      " 'et' 'ethic' 'ethical' 'europe' 'european' 'even' 'event' 'eventually'\n",
      " 'ever' 'every' 'evidence' 'evil' 'evolution' 'example' 'exist'\n",
      " 'existence' 'experience' 'experiment' 'experimental' 'explain'\n",
      " 'explanation' 'expressed' 'fact' 'faculty' 'faith' 'fall' 'family'\n",
      " 'famous' 'far' 'father' 'february' 'fellow' 'fellowship' 'felt'\n",
      " 'feminist' 'field' 'figure' 'film' 'final' 'finally' 'find' 'first'\n",
      " 'five' 'focus' 'focused' 'followed' 'follower' 'following' 'force'\n",
      " 'foreign' 'form' 'formal' 'formed' 'former' 'found' 'foundation'\n",
      " 'founded' 'founder' 'founding' 'four' 'fr' 'france' 'free' 'freedom'\n",
      " 'french' 'friedrich' 'friend' 'full' 'function' 'fundamental' 'future'\n",
      " 'gandhi' 'gave' 'general' 'generally' 'generation' 'george' 'german'\n",
      " 'germany' 'give' 'given' 'go' 'god' 'good' 'government' 'graduate'\n",
      " 'graduated' 'great' 'greatest' 'greek' 'ground' 'group' 'han' 'hand'\n",
      " 'harvard' 'head' 'health' 'hegel' 'held' 'help' 'helped' 'henry' 'high'\n",
      " 'high school' 'higher' 'highly' 'historian' 'historical' 'history' 'hold'\n",
      " 'home' 'honor' 'honorary' 'honour' 'house' 'however' 'human' 'humanity'\n",
      " 'hume' 'ibn' 'idea' 'ideal' 'identity' 'ii' 'image' 'importance'\n",
      " 'important' 'include' 'included' 'including' 'independent' 'india'\n",
      " 'indian' 'individual' 'influence' 'influenced' 'influential'\n",
      " 'information' 'inspired' 'instead' 'institute' 'institution'\n",
      " 'intellectual' 'intelligence' 'interaction' 'interest' 'interested'\n",
      " 'international' 'interpretation' 'introduced' 'introduction'\n",
      " 'investigation' 'invited' 'involved' 'islamic' 'issue' 'italian' 'italy'\n",
      " 'james' 'january' 'jefferson' 'jesus' 'jew' 'jewish' 'john' 'johnson'\n",
      " 'joined' 'joseph' 'journal' 'july' 'june' 'justice' 'kant' 'karl' 'key'\n",
      " 'kind' 'king' 'kingdom' 'know' 'knowledge' 'known' 'la' 'laboratory'\n",
      " 'lack' 'land' 'language' 'large' 'largely' 'last' 'late' 'later' 'latin'\n",
      " 'latter' 'law' 'le' 'lead' 'leader' 'leading' 'learned' 'learning'\n",
      " 'least' 'lecture' 'lecturer' 'led' 'lee' 'left' 'legal' 'leibniz'\n",
      " 'letter' 'level' 'liberal' 'library' 'life' 'light' 'like' 'line' 'list'\n",
      " 'literary' 'literature' 'little' 'live' 'lived' 'living' 'local' 'logic'\n",
      " 'logical' 'london' 'long' 'lord' 'lost' 'louis' 'love' 'made' 'magazine'\n",
      " 'main' 'major' 'make' 'making' 'man' 'manuscript' 'many' 'march' 'mark'\n",
      " 'marriage' 'married' 'martin' 'marx' 'mary' 'mass' 'master' 'material'\n",
      " 'mathematical' 'mathematician' 'mathematics' 'matter' 'max' 'may' 'mean'\n",
      " 'meaning' 'mechanic' 'medal' 'medical' 'medicine' 'medieval' 'medium'\n",
      " 'meeting' 'member' 'men' 'mental' 'met' 'metaphysics' 'method' 'michael'\n",
      " 'middle' 'might' 'military' 'mind' 'minister' 'model' 'modern' 'month'\n",
      " 'moral' 'morality' 'moscow' 'mother' 'motion' 'moved' 'movement' 'much'\n",
      " 'music' 'muslim' 'must' 'name' 'named' 'nation' 'national' 'natural'\n",
      " 'nature' 'nazi' 'near' 'necessary' 'need' 'needed' 'never' 'new'\n",
      " 'new york' 'next' 'nietzsche' 'nobel' 'nobel prize' 'north' 'notable'\n",
      " 'note' 'noted' 'nothing' 'notion' 'novel' 'november' 'nuclear' 'number'\n",
      " 'numerous' 'object' 'objective' 'observation' 'obtained' 'october'\n",
      " 'offer' 'offered' 'office' 'official' 'often' 'old' 'one' 'open'\n",
      " 'opinion' 'opposed' 'opposition' 'optic' 'optical' 'order' 'organization'\n",
      " 'origin' 'original' 'orthodox' 'others' 'outside' 'oxford' 'paper'\n",
      " 'parent' 'paris' 'part' 'particle' 'particular' 'particularly' 'party'\n",
      " 'past' 'paul' 'peace' 'people' 'perception' 'perhaps' 'period' 'person'\n",
      " 'personal' 'perspective' 'peter' 'phd' 'phenomenon' 'philosopher'\n",
      " 'philosophical' 'philosophy' 'philosophy science' 'philosophy university'\n",
      " 'physic' 'physic university' 'physical' 'physical society' 'physicist'\n",
      " 'place' 'plato' 'play' 'played' 'poem' 'poet' 'poetry' 'point' 'policy'\n",
      " 'polish' 'political' 'politics' 'pope' 'popular' 'position' 'possibility'\n",
      " 'possible' 'post' 'power' 'practical' 'practice' 'present' 'presented'\n",
      " 'president' 'press' 'previously' 'primary' 'princeton' 'principle'\n",
      " 'prior' 'private' 'prize' 'probably' 'problem' 'process' 'produced'\n",
      " 'production' 'professor' 'professor philosophy' 'professor physic'\n",
      " 'professor university' 'program' 'project' 'prominent' 'property'\n",
      " 'proposed' 'provided' 'psychological' 'psychology' 'public' 'publication'\n",
      " 'published' 'pure' 'purpose' 'put' 'quality' 'quantum' 'question' 'race'\n",
      " 'radiation' 'radical' 'radio' 'raised' 'range' 'rather' 'rational' 'read'\n",
      " 'reader' 'reading' 'real' 'reality' 'reason' 'received' 'recent'\n",
      " 'reference' 'referred' 'reform' 'regard' 'regarded' 'regarding'\n",
      " 'rejected' 'related' 'relation' 'relationship' 'religion' 'religious'\n",
      " 'remained' 'remains' 'report' 'republic' 'research' 'researcher'\n",
      " 'respect' 'response' 'rest' 'result' 'retired' 'return' 'returned'\n",
      " 'review' 'revolution' 'revolutionary' 'richard' 'right' 'robert' 'role'\n",
      " 'roman' 'rome' 'royal' 'royal society' 'rule' 'russell' 'russia'\n",
      " 'russian' 'said' 'saint' 'saw' 'say' 'saying' 'scholar' 'scholarship'\n",
      " 'school' 'science' 'scientific' 'scientist' 'second' 'secretary'\n",
      " 'section' 'see' 'seems' 'seen' 'self' 'senior' 'sense' 'sent' 'september'\n",
      " 'series' 'served' 'service' 'set' 'seven' 'several' 'short' 'show'\n",
      " 'showed' 'side' 'significant' 'similar' 'simply' 'since' 'single'\n",
      " 'sister' 'six' 'small' 'smith' 'social' 'socialist' 'society' 'socrates'\n",
      " 'solution' 'something' 'sometimes' 'son' 'soon' 'sought' 'soul' 'source'\n",
      " 'south' 'soviet' 'space' 'special' 'specific' 'speech' 'spent' 'spirit'\n",
      " 'spiritual' 'st' 'stage' 'standard' 'star' 'started' 'state'\n",
      " 'state university' 'stated' 'statement' 'still' 'story' 'strong'\n",
      " 'structure' 'student' 'studied' 'study' 'studying' 'style' 'subject'\n",
      " 'subsequently' 'suggested' 'sun' 'support' 'supported' 'surface' 'system'\n",
      " 'take' 'taken' 'taking' 'taught' 'teach' 'teacher' 'teaching' 'technical'\n",
      " 'technique' 'technology' 'temple' 'ten' 'term' 'text' 'theologian'\n",
      " 'theological' 'theology' 'theoretical' 'theoretical physic' 'theory'\n",
      " 'therefore' 'thesis' 'thing' 'think' 'thinker' 'thinking' 'third'\n",
      " 'thomas' 'though' 'thought' 'three' 'throughout' 'thus' 'time' 'title'\n",
      " 'titled' 'today' 'together' 'took' 'topic' 'towards' 'town' 'tradition'\n",
      " 'traditional' 'translated' 'translation' 'treatise' 'true' 'truth' 'turn'\n",
      " 'turned' 'two' 'two year' 'type' 'understand' 'understanding'\n",
      " 'understood' 'union' 'united' 'united state' 'universal' 'universe'\n",
      " 'university' 'university california' 'upon' 'use' 'used' 'using' 'value'\n",
      " 'van' 'various' 'version' 'vienna' 'view' 'virtue' 'vision' 'visit'\n",
      " 'visited' 'visiting' 'volume' 'von' 'war' 'war ii' 'washington' 'water'\n",
      " 'wave' 'way' 'well' 'went' 'west' 'western' 'whether' 'white' 'whole'\n",
      " 'whose' 'widely' 'wife' 'wilhelm' 'william' 'within' 'without'\n",
      " 'wittgenstein' 'woman' 'word' 'work' 'worked' 'working' 'world'\n",
      " 'world war' 'world war ii' 'would' 'write' 'writer' 'writes' 'writing'\n",
      " 'written' 'wrote' 'year' 'year later' 'yet' 'york' 'young']\n"
     ]
    }
   ],
   "source": [
    "# Printing out the features\n",
    "features = tfidf_vectorizer.get_feature_names_out()\n",
    "print(features)"
   ]
  },
  {
   "cell_type": "code",
   "execution_count": 313,
   "metadata": {
    "colab": {
     "base_uri": "https://localhost:8080/"
    },
    "id": "Ni_NB76q2Go7",
    "outputId": "bc3c87cd-83ce-415d-bf54-d0c3c3493e89"
   },
   "outputs": [
    {
     "name": "stdout",
     "output_type": "stream",
     "text": [
      "Train: (5167, 1000)\n",
      "Test: (1292, 1000)\n",
      "Vocabulary size: 1000\n"
     ]
    }
   ],
   "source": [
    "print('Train:', X_train_vec.shape)\n",
    "print('Test:', X_test_vec.shape)\n",
    "print('Vocabulary size:', len(tfidf_vectorizer.vocabulary_))"
   ]
  },
  {
   "cell_type": "markdown",
   "metadata": {
    "id": "WUVkT1oy2gYW"
   },
   "source": [
    "### Logistic Regression with GridSearchCV"
   ]
  },
  {
   "cell_type": "code",
   "execution_count": 314,
   "metadata": {
    "colab": {
     "base_uri": "https://localhost:8080/"
    },
    "id": "V-XrZ22H2gYX",
    "outputId": "7ab3a399-db29-4ab2-dc7d-5facc15037d6"
   },
   "outputs": [
    {
     "name": "stdout",
     "output_type": "stream",
     "text": [
      "Tuned Hyperparameters:  {'C': 1.0, 'penalty': 'l2', 'solver': 'liblinear'}\n",
      "F1:  0.9828027748309877\n"
     ]
    }
   ],
   "source": [
    "parameters = {\n",
    "    'penalty' : ['none', 'l1', 'l2', 'elasticnet'], \n",
    "    'C'       : [100, 10, 1.0, 0.1, 0.01],\n",
    "    'solver'  : ['newton-cg', 'lbfgs', 'liblinear'],\n",
    "}\n",
    "\n",
    "logreg = LogisticRegression(random_state=0)\n",
    "clf = GridSearchCV(logreg,                    # model\n",
    "                   param_grid = parameters,   # hyperparameters\n",
    "                   scoring='f1',              # metric for scoring\n",
    "                   cv=5)                     # number of folds\n",
    "\n",
    "clf.fit(X_train_vec, y_train)\n",
    "\n",
    "print(\"Tuned Hyperparameters: \", clf.best_params_)\n",
    "print(\"F1: \", clf.best_score_)"
   ]
  },
  {
   "cell_type": "code",
   "execution_count": 315,
   "metadata": {
    "colab": {
     "base_uri": "https://localhost:8080/"
    },
    "id": "zzBWsEd3_Sos",
    "outputId": "46a17e6f-1f75-4e9d-ef8b-323d7af4d64f"
   },
   "outputs": [
    {
     "name": "stdout",
     "output_type": "stream",
     "text": [
      "Classification report: \n",
      "               precision    recall  f1-score   support\n",
      "\n",
      "           1      0.988     0.988     0.988       747\n",
      "           2      0.983     0.983     0.983       545\n",
      "\n",
      "    accuracy                          0.986      1292\n",
      "   macro avg      0.986     0.986     0.986      1292\n",
      "weighted avg      0.986     0.986     0.986      1292\n",
      "\n"
     ]
    }
   ],
   "source": [
    "# Using the best parameters\n",
    "clf_log = LogisticRegression(C=1.0, penalty='l2', solver='liblinear', random_state=0)\n",
    "\n",
    "# Train  the model\n",
    "clf_log.fit(X_train_vec, y_train)\n",
    "\n",
    "# Predict the labels of the test instances\n",
    "y_pred = clf_log.predict(X_test_vec)\n",
    "\n",
    "# Evaluating a classifier\n",
    "print('Classification report:', '\\n', classification_report(y_test, y_pred, digits=3))\n",
    "f1_logreg_tfidf = f1_score(y_test, y_pred)"
   ]
  },
  {
   "cell_type": "code",
   "execution_count": 316,
   "metadata": {
    "colab": {
     "base_uri": "https://localhost:8080/"
    },
    "id": "xN7_fT4V_Sos",
    "outputId": "1ff1f638-95e9-4037-9f90-08d3b9fc10fa"
   },
   "outputs": [
    {
     "name": "stdout",
     "output_type": "stream",
     "text": [
      "Confusion matrix: \n",
      " [[738   9]\n",
      " [  9 536]]\n"
     ]
    }
   ],
   "source": [
    "# Print the confusion matrix\n",
    "cm_logreg = confusion_matrix(y_test, y_pred)\n",
    "print('Confusion matrix:', '\\n', cm_logreg)"
   ]
  },
  {
   "cell_type": "code",
   "execution_count": 317,
   "metadata": {
    "colab": {
     "base_uri": "https://localhost:8080/",
     "height": 512
    },
    "id": "Aakgnlr-_Sos",
    "outputId": "7d19cff2-0267-466b-c7fc-1130ba9dc702"
   },
   "outputs": [
    {
     "data": {
      "image/png": "[encoded data removed]",
      "text/plain": [
       "<Figure size 640x480 with 1 Axes>"
      ]
     },
     "metadata": {},
     "output_type": "display_data"
    }
   ],
   "source": [
    "# Print the confusion matrix in a pretty way\n",
    "plt.clf()\n",
    "plt.imshow(cm_logreg, interpolation='nearest', cmap=plt.cm.summer)\n",
    "class_names = ['Negative','Positive']\n",
    "plt.title('LogisticRegression Confusion Matrix')\n",
    "plt.ylabel('True label')\n",
    "plt.xlabel('Predicted label')\n",
    "tick_marks = np.arange(len(class_names))\n",
    "plt.xticks(tick_marks, class_names, rotation=45)\n",
    "plt.yticks(tick_marks, class_names)\n",
    "s = [['TN','FP'], ['FN', 'TP']]\n",
    "\n",
    "for i in range(2):\n",
    "    for j in range(2):\n",
    "        plt.text(j,i, str(s[i][j])+\" = \"+str(cm_logreg[i][j]))\n",
    "plt.show()"
   ]
  },
  {
   "cell_type": "markdown",
   "metadata": {
    "id": "GqmGDbJR2gYY"
   },
   "source": [
    "### Random Forest with GridSearchCV"
   ]
  },
  {
   "cell_type": "code",
   "execution_count": 306,
   "metadata": {
    "colab": {
     "base_uri": "https://localhost:8080/"
    },
    "id": "moo5zGqh2gYY",
    "outputId": "2af6e3a8-36e0-4c1b-9aa9-66854fe5384a"
   },
   "outputs": [
    {
     "name": "stdout",
     "output_type": "stream",
     "text": [
      "Tuned Hyperparameters:  {'criterion': 'gini', 'max_features': 'sqrt', 'n_estimators': 200}\n",
      "F1:  0.9819811193364576\n"
     ]
    }
   ],
   "source": [
    "parameters = {\n",
    "    # 'max_depth': list(range(10, 15)), \n",
    "    'max_features': ['sqrt', 'log2'],\n",
    "    'n_estimators': [100, 200],\n",
    "    'criterion': ['gini', 'entropy', 'log_loss'],\n",
    "}\n",
    "\n",
    "\n",
    "rf = RandomForestClassifier(random_state=0)\n",
    "clf = GridSearchCV(rf,                        # model\n",
    "                   param_grid = parameters,   # hyperparameters\n",
    "                   scoring='f1',              # metric for scoring\n",
    "                   cv=5)                     # number of folds\n",
    "\n",
    "clf.fit(X_train_vec, y_train)\n",
    "\n",
    "print(\"Tuned Hyperparameters: \", clf.best_params_)\n",
    "print(\"F1: \", clf.best_score_)"
   ]
  },
  {
   "cell_type": "code",
   "execution_count": 319,
   "metadata": {
    "colab": {
     "base_uri": "https://localhost:8080/"
    },
    "id": "JDdqYz_0_pSm",
    "outputId": "492bcd12-5331-49a7-c9c2-230b749cc10c"
   },
   "outputs": [
    {
     "name": "stdout",
     "output_type": "stream",
     "text": [
      "Classification report: \n",
      "               precision    recall  f1-score   support\n",
      "\n",
      "           1      0.985     0.984     0.985       747\n",
      "           2      0.978     0.980     0.979       545\n",
      "\n",
      "    accuracy                          0.982      1292\n",
      "   macro avg      0.982     0.982     0.982      1292\n",
      "weighted avg      0.982     0.982     0.982      1292\n",
      "\n"
     ]
    }
   ],
   "source": [
    "# Using the best parameters\n",
    "clf_rf = RandomForestClassifier(criterion='gini', max_features='sqrt', n_estimators=200, random_state=0)\n",
    "\n",
    "# Train  the model\n",
    "clf_rf.fit(X_train_vec, y_train)\n",
    "\n",
    "# Predict the labels of the test instances\n",
    "y_pred = clf_rf.predict(X_test_vec)\n",
    "\n",
    "# Evaluating a classifier\n",
    "print('Classification report:', '\\n', classification_report(y_test, y_pred, digits=3))\n",
    "f1_randomforest_tfidf = f1_score(y_test, y_pred)"
   ]
  },
  {
   "cell_type": "code",
   "execution_count": 320,
   "metadata": {
    "colab": {
     "base_uri": "https://localhost:8080/"
    },
    "id": "xRzXLH9L_pSn",
    "outputId": "53b1ff4a-c7a0-415b-b2ee-2f1314a7d720"
   },
   "outputs": [
    {
     "name": "stdout",
     "output_type": "stream",
     "text": [
      "Confusion matrix: \n",
      " [[735  12]\n",
      " [ 11 534]]\n"
     ]
    }
   ],
   "source": [
    "# Print the confusion matrix\n",
    "cm_randomforest = confusion_matrix(y_test, y_pred)\n",
    "print('Confusion matrix:', '\\n', cm_randomforest)"
   ]
  },
  {
   "cell_type": "code",
   "execution_count": 321,
   "metadata": {
    "colab": {
     "base_uri": "https://localhost:8080/",
     "height": 512
    },
    "id": "bwt8tE20_pSn",
    "outputId": "fcfb8856-f96e-42c6-f935-f67f3969f5a7"
   },
   "outputs": [
    {
     "data": {
      "image/png": "[encoded data removed]",
      "text/plain": [
       "<Figure size 640x480 with 1 Axes>"
      ]
     },
     "metadata": {},
     "output_type": "display_data"
    }
   ],
   "source": [
    "# Print the confusion matrix in a pretty way\n",
    "plt.clf()\n",
    "plt.imshow(cm_randomforest, interpolation='nearest', cmap=plt.cm.summer)\n",
    "classNames = ['Negative','Positive']\n",
    "plt.title('Random Forest Confusion Matrix')\n",
    "plt.ylabel('True label')\n",
    "plt.xlabel('Predicted label')\n",
    "tick_marks = np.arange(len(classNames))\n",
    "plt.xticks(tick_marks, classNames, rotation=45)\n",
    "plt.yticks(tick_marks, classNames)\n",
    "s = [['TN','FP'], ['FN', 'TP']]\n",
    "\n",
    "for i in range(2):\n",
    "    for j in range(2):\n",
    "        plt.text(j,i, str(s[i][j])+\" = \"+str(cm_randomforest[i][j]))\n",
    "plt.show()"
   ]
  },
  {
   "cell_type": "markdown",
   "metadata": {
    "id": "SRuPMtMrFKcZ"
   },
   "source": [
    "## Compare models"
   ]
  },
  {
   "cell_type": "code",
   "execution_count": 328,
   "metadata": {
    "colab": {
     "base_uri": "https://localhost:8080/"
    },
    "id": "PffzGHVMFMiF",
    "outputId": "098241c9-052e-4add-fdd0-4d11260c2a54"
   },
   "outputs": [
    {
     "name": "stdout",
     "output_type": "stream",
     "text": [
      "Logistic Regression (CountVectorizer + GridSearchCV): 0.9455006337135614\n",
      "Random Forest (CountVectorizer + GridSearchCV): 0.984594775619558\n",
      "Logistic Regression (TFIDFVectorizer + GridSearchCV) 0.9879518072289156\n",
      "Random Forest (TFIDFVectorizer + GridSearchCV): 0.984594775619558\n"
     ]
    }
   ],
   "source": [
    "# Compare models using f1 score\n",
    "print(\"Logistic Regression (CountVectorizer + GridSearchCV): {}\\nRandom Forest (CountVectorizer + GridSearchCV): {}\\nLogistic Regression (TFIDFVectorizer + GridSearchCV) {}\\nRandom Forest (TFIDFVectorizer + GridSearchCV): {}\".format(\n",
    "    f1_logreg_count,\n",
    "    f1_randomforest_count,\n",
    "    f1_logreg_tfidf,\n",
    "    f1_randomforest_tfidf), sep='/n')\n",
    "# The best model - Logistic Regression (TFIDFVectorizer + GridSearchCV)"
   ]
  },
  {
   "cell_type": "code",
   "execution_count": null,
   "metadata": {
    "id": "TXLxfC5nFuzN"
   },
   "outputs": [],
   "source": []
  }
 ],
 "metadata": {
  "colab": {
   "provenance": [],
   "toc_visible": true
  },
  "kernelspec": {
   "display_name": "Python 3 (ipykernel)",
   "language": "python",
   "name": "python3"
  },
  "language_info": {
   "codemirror_mode": {
    "name": "ipython",
    "version": 3
   },
   "file_extension": ".py",
   "mimetype": "text/x-python",
   "name": "python",
   "nbconvert_exporter": "python",
   "pygments_lexer": "ipython3",
   "version": "3.9.13"
  }
 },
 "nbformat": 4,
 "nbformat_minor": 1
}
