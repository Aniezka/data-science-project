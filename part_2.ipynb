{
  "cells": [
    {
      "cell_type": "code",
      "execution_count": 2,
      "metadata": {
        "id": "PhX_5Makltli"
      },
      "outputs": [
        {
          "name": "stderr",
          "output_type": "stream",
          "text": [
            "/Users/hzh/miniconda3/envs/data/lib/python3.9/site-packages/tqdm/auto.py:21: TqdmWarning: IProgress not found. Please update jupyter and ipywidgets. See https://ipywidgets.readthedocs.io/en/stable/user_install.html\n",
            "  from .autonotebook import tqdm as notebook_tqdm\n"
          ]
        }
      ],
      "source": [
        "import requests\n",
        "from bs4 import BeautifulSoup\n",
        "import random\n",
        "import string\n",
        "import nltk\n",
        "import zipfile\n",
        "import wikipedia\n",
        "import pandas as pd\n",
        "import spacy\n",
        "import stanza\n",
        "import ast\n",
        "import seaborn as sns\n",
        "import matplotlib.pyplot as plt"
      ]
    },
    {
      "attachments": {},
      "cell_type": "markdown",
      "metadata": {},
      "source": [
        "# Data Collection"
      ]
    },
    {
      "cell_type": "code",
      "execution_count": 3,
      "metadata": {
        "id": "ydKYg-rYk7lC"
      },
      "outputs": [],
      "source": [
        "def create_dataset(src, n):\n",
        "    \"\"\"\n",
        "    Creates a dataset of n sentences from a given source.\n",
        "\n",
        "    src: str, either a wikipedia url or path to a zip file (ending in .zip)\n",
        "    n: int, number of sentences to extract\n",
        "    Return: list of strings\n",
        "    \"\"\"\n",
        "    if \"wikipedia.org\" in src:\n",
        "        dataset = data_from_url(src, n)\n",
        "    elif src[-4:] == '.zip' and src[:4] != 'http':\n",
        "      dataset = data_from_archive(n)\n",
        "    else:\n",
        "        raise ValueError(\"Invalid source specified. Please choose 'archive' or 'url'.\")\n",
        "    return dataset"
      ]
    },
    {
      "cell_type": "code",
      "execution_count": 4,
      "metadata": {
        "id": "X4jXuHWWlAjg"
      },
      "outputs": [],
      "source": [
        "def data_from_archive(path_to_zip_file, n):\n",
        "    '''\n",
        "    Code to retrieve data from a zip file\n",
        "\n",
        "    path_to_zip_file: str, path to a zip file, ending in .zip\n",
        "    n: int, number of sentences to extract\n",
        "    Return: list of strings\n",
        "    '''\n",
        "    dataset = []\n",
        "    count = 0\n",
        "\n",
        "    with zipfile.ZipFile(path_to_zip_file, 'r') as f:\n",
        "      for name in f.namelist():\n",
        "          data = f.read(name)\n",
        "          if count < n:\n",
        "            dataset.append(data)\n",
        "            count += 1\n",
        "          else:\n",
        "            break\n",
        "\n",
        "    return dataset\n",
        "\n",
        "def data_from_url(path_to_url, n):\n",
        "    '''\n",
        "    Code to retrieve data from a wikipedia url\n",
        "\n",
        "    path_to_url: str, url to a wikipedia page\n",
        "    n: int, number of sentences to extract\n",
        "    Return: list of strings\n",
        "    '''  \n",
        "    dataset = []\n",
        "    count = 0\n",
        "\n",
        "    page = wikipedia.page(path_to_url)\n",
        "    content = page.content\n",
        "    dataset.append(content)\n",
        "    \n",
        "    all_links = page.links\n",
        "    for link in all_links:\n",
        "      if count < n-1:\n",
        "        try:\n",
        "          page = wikipedia.page(title=link)\n",
        "          content = page.content\n",
        "          dataset.append(content)\n",
        "          count += 1\n",
        "        except: pass\n",
        "      else:\n",
        "        break\n",
        "    \n",
        "    return dataset"
      ]
    },
    {
      "cell_type": "code",
      "execution_count": 5,
      "metadata": {
        "colab": {
          "base_uri": "https://localhost:8080/"
        },
        "id": "X722NOa0yyYp",
        "outputId": "6e51b303-748b-4d3c-ae18-c8039c053676"
      },
      "outputs": [
        {
          "name": "stderr",
          "output_type": "stream",
          "text": [
            "/Users/hzh/miniconda3/envs/data/lib/python3.9/site-packages/wikipedia/wikipedia.py:389: GuessedAtParserWarning: No parser was explicitly specified, so I'm using the best available HTML parser for this system (\"lxml\"). This usually isn't a problem, but if you run this code on another system, or in a different virtual environment, it may use a different parser and behave differently.\n",
            "\n",
            "The code that caused this warning is on line 389 of the file /Users/hzh/miniconda3/envs/data/lib/python3.9/site-packages/wikipedia/wikipedia.py. To get rid of this warning, pass the additional argument 'features=\"lxml\"' to the BeautifulSoup constructor.\n",
            "\n",
            "  lis = BeautifulSoup(html).find_all('li')\n"
          ]
        }
      ],
      "source": [
        "src = \"https://en.wikipedia.org/wiki/List_of_philosophers_born_in_the_15th_and_16th_centuries\"\n",
        "n = 50\n",
        "\n",
        "# Extract data\n",
        "dataset = create_dataset(src, n)"
      ]
    },
    {
      "cell_type": "code",
      "execution_count": 11,
      "metadata": {},
      "outputs": [],
      "source": [
        "df = pd.DataFrame(dataset, columns=['texts'])\n",
        "df.to_csv('part2_dataset.csv', index=False)"
      ]
    },
    {
      "attachments": {},
      "cell_type": "markdown",
      "metadata": {},
      "source": [
        "# POS tagging"
      ]
    },
    {
      "cell_type": "code",
      "execution_count": 11,
      "metadata": {},
      "outputs": [
        {
          "data": {
            "text/html": [
              "<div>\n",
              "<style scoped>\n",
              "    .dataframe tbody tr th:only-of-type {\n",
              "        vertical-align: middle;\n",
              "    }\n",
              "\n",
              "    .dataframe tbody tr th {\n",
              "        vertical-align: top;\n",
              "    }\n",
              "\n",
              "    .dataframe thead th {\n",
              "        text-align: right;\n",
              "    }\n",
              "</style>\n",
              "<table border=\"1\" class=\"dataframe\">\n",
              "  <thead>\n",
              "    <tr style=\"text-align: right;\">\n",
              "      <th></th>\n",
              "      <th>shared_sentences</th>\n",
              "      <th>tokens_stanza</th>\n",
              "      <th>tokens_spacy</th>\n",
              "      <th>cleaned_tokens_stanza</th>\n",
              "      <th>cleaned_tokens_spacy</th>\n",
              "      <th>tokens_occurence_stanza</th>\n",
              "      <th>tokens_occurence_spacy</th>\n",
              "    </tr>\n",
              "  </thead>\n",
              "  <tbody>\n",
              "    <tr>\n",
              "      <th>0</th>\n",
              "      <td>Meanwhile, the war created employment for arms...</td>\n",
              "      <td>['Meanwhile', ',', 'the', 'war', 'created', 'e...</td>\n",
              "      <td>['Meanwhile', ',', 'the', 'war', 'created', 'e...</td>\n",
              "      <td>['meanwhile', 'war', 'created', 'employment', ...</td>\n",
              "      <td>['meanwhile', 'war', 'created', 'employment', ...</td>\n",
              "      <td>Counter({'meanwhile': 1, 'war': 1, 'created': ...</td>\n",
              "      <td>Counter({'meanwhile': 1, 'war': 1, 'created': ...</td>\n",
              "    </tr>\n",
              "    <tr>\n",
              "      <th>1</th>\n",
              "      <td>As for the state debts, Hamilton suggested con...</td>\n",
              "      <td>['As', 'for', 'the', 'state', 'debts', ',', 'H...</td>\n",
              "      <td>['As', 'for', 'the', 'state', 'debts', ',', 'H...</td>\n",
              "      <td>['state', 'debt', 'hamilton', 'suggested', 'co...</td>\n",
              "      <td>['state', 'debt', 'hamilton', 'suggested', 'co...</td>\n",
              "      <td>Counter({'debt': 3, 'national': 2, 'state': 1,...</td>\n",
              "      <td>Counter({'debt': 3, 'national': 2, 'state': 1,...</td>\n",
              "    </tr>\n",
              "    <tr>\n",
              "      <th>2</th>\n",
              "      <td>== External links ==\\nAndrew Ducarel Record at...</td>\n",
              "      <td>['==', 'External', 'links', '==', 'Andrew', 'D...</td>\n",
              "      <td>['=', '=', 'External', 'links', '=', '=', '\\n'...</td>\n",
              "      <td>['external', 'link', 'andrew', 'ducarel', 'rec...</td>\n",
              "      <td>['external', 'link', 'andrew', 'ducarel', 'rec...</td>\n",
              "      <td>Counter({'external': 1, 'link': 1, 'andrew': 1...</td>\n",
              "      <td>Counter({'external': 1, 'link': 1, 'andrew': 1...</td>\n",
              "    </tr>\n",
              "    <tr>\n",
              "      <th>3</th>\n",
              "      <td>Some individual slaveholders, particularly in ...</td>\n",
              "      <td>['Some', 'individual', 'slaveholders', ',', 'p...</td>\n",
              "      <td>['Some', 'individual', 'slaveholders', ',', 'p...</td>\n",
              "      <td>['individual', 'slaveholder', 'particularly', ...</td>\n",
              "      <td>['individual', 'slaveholder', 'particularly', ...</td>\n",
              "      <td>Counter({'individual': 1, 'slaveholder': 1, 'p...</td>\n",
              "      <td>Counter({'individual': 1, 'slaveholder': 1, 'p...</td>\n",
              "    </tr>\n",
              "    <tr>\n",
              "      <th>4</th>\n",
              "      <td>Hamilton was prepared to march the army throug...</td>\n",
              "      <td>['Hamilton', 'was', 'prepared', 'to', 'march',...</td>\n",
              "      <td>['Hamilton', 'was', 'prepared', 'to', 'march',...</td>\n",
              "      <td>['hamilton', 'prepared', 'march', 'army', 'sou...</td>\n",
              "      <td>['hamilton', 'prepared', 'march', 'army', 'sou...</td>\n",
              "      <td>Counter({'hamilton': 1, 'prepared': 1, 'march'...</td>\n",
              "      <td>Counter({'hamilton': 1, 'prepared': 1, 'march'...</td>\n",
              "    </tr>\n",
              "  </tbody>\n",
              "</table>\n",
              "</div>"
            ],
            "text/plain": [
              "                                    shared_sentences   \n",
              "0  Meanwhile, the war created employment for arms...  \\\n",
              "1  As for the state debts, Hamilton suggested con...   \n",
              "2  == External links ==\\nAndrew Ducarel Record at...   \n",
              "3  Some individual slaveholders, particularly in ...   \n",
              "4  Hamilton was prepared to march the army throug...   \n",
              "\n",
              "                                       tokens_stanza   \n",
              "0  ['Meanwhile', ',', 'the', 'war', 'created', 'e...  \\\n",
              "1  ['As', 'for', 'the', 'state', 'debts', ',', 'H...   \n",
              "2  ['==', 'External', 'links', '==', 'Andrew', 'D...   \n",
              "3  ['Some', 'individual', 'slaveholders', ',', 'p...   \n",
              "4  ['Hamilton', 'was', 'prepared', 'to', 'march',...   \n",
              "\n",
              "                                        tokens_spacy   \n",
              "0  ['Meanwhile', ',', 'the', 'war', 'created', 'e...  \\\n",
              "1  ['As', 'for', 'the', 'state', 'debts', ',', 'H...   \n",
              "2  ['=', '=', 'External', 'links', '=', '=', '\\n'...   \n",
              "3  ['Some', 'individual', 'slaveholders', ',', 'p...   \n",
              "4  ['Hamilton', 'was', 'prepared', 'to', 'march',...   \n",
              "\n",
              "                               cleaned_tokens_stanza   \n",
              "0  ['meanwhile', 'war', 'created', 'employment', ...  \\\n",
              "1  ['state', 'debt', 'hamilton', 'suggested', 'co...   \n",
              "2  ['external', 'link', 'andrew', 'ducarel', 'rec...   \n",
              "3  ['individual', 'slaveholder', 'particularly', ...   \n",
              "4  ['hamilton', 'prepared', 'march', 'army', 'sou...   \n",
              "\n",
              "                                cleaned_tokens_spacy   \n",
              "0  ['meanwhile', 'war', 'created', 'employment', ...  \\\n",
              "1  ['state', 'debt', 'hamilton', 'suggested', 'co...   \n",
              "2  ['external', 'link', 'andrew', 'ducarel', 'rec...   \n",
              "3  ['individual', 'slaveholder', 'particularly', ...   \n",
              "4  ['hamilton', 'prepared', 'march', 'army', 'sou...   \n",
              "\n",
              "                             tokens_occurence_stanza   \n",
              "0  Counter({'meanwhile': 1, 'war': 1, 'created': ...  \\\n",
              "1  Counter({'debt': 3, 'national': 2, 'state': 1,...   \n",
              "2  Counter({'external': 1, 'link': 1, 'andrew': 1...   \n",
              "3  Counter({'individual': 1, 'slaveholder': 1, 'p...   \n",
              "4  Counter({'hamilton': 1, 'prepared': 1, 'march'...   \n",
              "\n",
              "                              tokens_occurence_spacy  \n",
              "0  Counter({'meanwhile': 1, 'war': 1, 'created': ...  \n",
              "1  Counter({'debt': 3, 'national': 2, 'state': 1,...  \n",
              "2  Counter({'external': 1, 'link': 1, 'andrew': 1...  \n",
              "3  Counter({'individual': 1, 'slaveholder': 1, 'p...  \n",
              "4  Counter({'hamilton': 1, 'prepared': 1, 'march'...  "
            ]
          },
          "execution_count": 11,
          "metadata": {},
          "output_type": "execute_result"
        }
      ],
      "source": [
        "df = pd.read_csv('tokenization_after_segmentation.csv')\n",
        "df.head()"
      ]
    },
    {
      "cell_type": "code",
      "execution_count": 12,
      "metadata": {},
      "outputs": [],
      "source": [
        "# to be deleted\n",
        "df['cleaned_tokens_stanza'] = df['cleaned_tokens_stanza'].apply(ast.literal_eval)\n",
        "df['cleaned_tokens_spacy'] = df['cleaned_tokens_spacy'].apply(ast.literal_eval)"
      ]
    },
    {
      "cell_type": "code",
      "execution_count": 13,
      "metadata": {},
      "outputs": [],
      "source": [
        "# to be deleted\n",
        "# creating vocabularies of unique tokens for each library\n",
        "vocab_stanza = set(token for tokens in df['cleaned_tokens_stanza'] for token in tokens)\n",
        "vocab_spacy = set(token for tokens in df['cleaned_tokens_spacy'] for token in tokens)\n",
        "\n",
        "# tokens which simalteneously present in both vocabularies\n",
        "SharedTokenInSentences = vocab_stanza.intersection(vocab_spacy)\n",
        "\n",
        "# creating dataframe for storing pos tags\n",
        "df_pos = pd.DataFrame(columns=['token', 'stanza_pos', 'spacy_pos'])\n",
        "df_pos['token'] = list(SharedTokenInSentences)"
      ]
    },
    {
      "cell_type": "code",
      "execution_count": 14,
      "metadata": {},
      "outputs": [
        {
          "name": "stderr",
          "output_type": "stream",
          "text": [
            "2023-05-14 15:55:03 INFO: Checking for updates to resources.json in case models have been updated.  Note: this behavior can be turned off with download_method=None or download_method=DownloadMethod.REUSE_RESOURCES\n",
            "Downloading https://raw.githubusercontent.com/stanfordnlp/stanza-resources/main/resources_1.5.0.json: 216kB [00:00, 53.1MB/s]                    \n",
            "2023-05-14 15:55:04 INFO: Loading these models for language: en (English):\n",
            "========================\n",
            "| Processor | Package  |\n",
            "------------------------\n",
            "| tokenize  | combined |\n",
            "| pos       | combined |\n",
            "========================\n",
            "\n",
            "2023-05-14 15:55:04 INFO: Using device: cpu\n",
            "2023-05-14 15:55:04 INFO: Loading: tokenize\n",
            "2023-05-14 15:55:04 INFO: Loading: pos\n",
            "2023-05-14 15:55:04 INFO: Done loading processors!\n"
          ]
        }
      ],
      "source": [
        "# pos tagging using stanza\n",
        "nlp_stanza = stanza.Pipeline(lang='en', processors='tokenize,pos')\n",
        "stanza_doc = df_pos['token'].apply(nlp_stanza)\n",
        "df_pos['stanza_pos'] = [token.sentences[0].words[0].upos for token in stanza_doc]"
      ]
    },
    {
      "cell_type": "code",
      "execution_count": 15,
      "metadata": {},
      "outputs": [],
      "source": [
        "# pos tagging using spacy\n",
        "nlp_spacy = spacy.load('en_core_web_sm')\n",
        "df_pos['spacy_pos'] = [t.pos_ for token in df_pos['token'].apply(nlp_spacy) for t in token]"
      ]
    },
    {
      "cell_type": "code",
      "execution_count": 16,
      "metadata": {},
      "outputs": [
        {
          "data": {
            "text/html": [
              "<div>\n",
              "<style scoped>\n",
              "    .dataframe tbody tr th:only-of-type {\n",
              "        vertical-align: middle;\n",
              "    }\n",
              "\n",
              "    .dataframe tbody tr th {\n",
              "        vertical-align: top;\n",
              "    }\n",
              "\n",
              "    .dataframe thead th {\n",
              "        text-align: right;\n",
              "    }\n",
              "</style>\n",
              "<table border=\"1\" class=\"dataframe\">\n",
              "  <thead>\n",
              "    <tr style=\"text-align: right;\">\n",
              "      <th></th>\n",
              "      <th>token</th>\n",
              "      <th>stanza_pos</th>\n",
              "      <th>spacy_pos</th>\n",
              "    </tr>\n",
              "  </thead>\n",
              "  <tbody>\n",
              "    <tr>\n",
              "      <th>0</th>\n",
              "      <td>thrill</td>\n",
              "      <td>NOUN</td>\n",
              "      <td>NOUN</td>\n",
              "    </tr>\n",
              "    <tr>\n",
              "      <th>1</th>\n",
              "      <td>protestors</td>\n",
              "      <td>NOUN</td>\n",
              "      <td>NOUN</td>\n",
              "    </tr>\n",
              "    <tr>\n",
              "      <th>2</th>\n",
              "      <td>horen</td>\n",
              "      <td>NOUN</td>\n",
              "      <td>NOUN</td>\n",
              "    </tr>\n",
              "    <tr>\n",
              "      <th>3</th>\n",
              "      <td>act</td>\n",
              "      <td>VERB</td>\n",
              "      <td>VERB</td>\n",
              "    </tr>\n",
              "    <tr>\n",
              "      <th>4</th>\n",
              "      <td>wonder</td>\n",
              "      <td>VERB</td>\n",
              "      <td>VERB</td>\n",
              "    </tr>\n",
              "  </tbody>\n",
              "</table>\n",
              "</div>"
            ],
            "text/plain": [
              "        token stanza_pos spacy_pos\n",
              "0      thrill       NOUN      NOUN\n",
              "1  protestors       NOUN      NOUN\n",
              "2       horen       NOUN      NOUN\n",
              "3         act       VERB      VERB\n",
              "4      wonder       VERB      VERB"
            ]
          },
          "execution_count": 16,
          "metadata": {},
          "output_type": "execute_result"
        }
      ],
      "source": [
        "df_pos.head()"
      ]
    },
    {
      "cell_type": "code",
      "execution_count": 17,
      "metadata": {},
      "outputs": [
        {
          "name": "stdout",
          "output_type": "stream",
          "text": [
            "Number of tokens in the dataset: 10984\n",
            "Number of times the token is assigned the same UPOS by both libraries: 7501\n",
            "Ratio of the times the token is assigned the same UPOS by both libraries: 0.6829024034959942\n"
          ]
        }
      ],
      "source": [
        "print(f\"Number of tokens in the dataset: {df_pos.shape[0]}\")\n",
        "print(f\"Number of times the token is assigned the same UPOS by both libraries: {df_pos[df_pos['stanza_pos'] == df_pos['spacy_pos']].shape[0]}\")\n",
        "print(f\"Ratio of the times the token is assigned the same UPOS by both libraries: {df_pos[df_pos['stanza_pos'] == df_pos['spacy_pos']].shape[0] / df_pos.shape[0]}\")"
      ]
    },
    {
      "cell_type": "code",
      "execution_count": 18,
      "metadata": {},
      "outputs": [],
      "source": [
        "# list of pos tags in each library's results\n",
        "upos_spacy = df_pos['spacy_pos'].unique()\n",
        "upos_stanza = df_pos['stanza_pos'].unique()"
      ]
    },
    {
      "cell_type": "code",
      "execution_count": 19,
      "metadata": {},
      "outputs": [],
      "source": [
        "def frequency_mapping(lib, upos_list):\n",
        "    '''\n",
        "    Map frequency of UPOS tags in one library to the other library\n",
        "    lib: str, 'spacy' or 'stanza'\n",
        "    upos_list: list of UPOS tags in the library\n",
        "    return: dict, mapping of frequencies\n",
        "    '''\n",
        "    if lib == 'spacy':\n",
        "        other_lib = 'stanza'\n",
        "    else:\n",
        "        other_lib = 'spacy'\n",
        "\n",
        "    print(f\"Frequencies of {lib} UPOS tags\")\n",
        "    mapping = {}\n",
        "    for tag in upos_list:\n",
        "        print(f\"\\nFor all tokens labelled {tag} in {lib}:\")\n",
        "\n",
        "        mapping[tag] = {}\n",
        "        sub_df = df_pos[df_pos[f'{lib}_pos'] == tag]\n",
        "        other_lib_tag_list = df_pos[df_pos[f'{lib}_pos'] == tag][f'{other_lib}_pos'].unique()\n",
        "\n",
        "        for other_tag in other_lib_tag_list:\n",
        "            mapping[tag][other_tag] = len(sub_df[sub_df[f'{other_lib}_pos'] == other_tag]) / len(sub_df) * 100\n",
        "        for key, value in mapping[tag].items():\n",
        "            print(f\"{key}: {value:.2f}%\", end=\", \")\n",
        "\n",
        "    return mapping"
      ]
    },
    {
      "cell_type": "code",
      "execution_count": 20,
      "metadata": {},
      "outputs": [
        {
          "name": "stdout",
          "output_type": "stream",
          "text": [
            "Frequencies of spacy UPOS tags\n",
            "\n",
            "For all tokens labelled NOUN in spacy:\n",
            "NOUN: 71.70%, PROPN: 22.50%, VERB: 2.26%, ADJ: 2.92%, X: 0.32%, INTJ: 0.22%, ADV: 0.07%, NUM: 0.02%, \n",
            "For all tokens labelled VERB in spacy:\n",
            "VERB: 59.82%, PROPN: 11.20%, ADJ: 5.87%, NOUN: 22.79%, INTJ: 0.09%, X: 0.15%, PUNCT: 0.03%, SYM: 0.03%, ADV: 0.03%, \n",
            "For all tokens labelled PROPN in spacy:\n",
            "PROPN: 72.25%, INTJ: 0.92%, NOUN: 20.63%, ADJ: 4.30%, VERB: 1.29%, X: 0.37%, ADV: 0.18%, PUNCT: 0.06%, \n",
            "For all tokens labelled ADJ in spacy:\n",
            "ADJ: 79.70%, NOUN: 8.97%, PROPN: 8.80%, VERB: 1.48%, ADV: 0.87%, INTJ: 0.17%, \n",
            "For all tokens labelled INTJ in spacy:\n",
            "PROPN: 40.00%, INTJ: 28.00%, NOUN: 28.00%, ADJ: 4.00%, \n",
            "For all tokens labelled ADP in spacy:\n",
            "ADP: 20.00%, ADV: 42.50%, NOUN: 5.00%, PROPN: 30.00%, ADJ: 2.50%, \n",
            "For all tokens labelled ADV in spacy:\n",
            "ADV: 68.75%, CCONJ: 0.20%, PROPN: 13.48%, ADJ: 10.35%, NOUN: 6.25%, INTJ: 0.78%, SYM: 0.20%, \n",
            "For all tokens labelled PRON in spacy:\n",
            "PRON: 57.89%, NOUN: 15.79%, PROPN: 15.79%, DET: 10.53%, \n",
            "For all tokens labelled AUX in spacy:\n",
            "AUX: 81.82%, ADV: 9.09%, PROPN: 9.09%, \n",
            "For all tokens labelled NUM in spacy:\n",
            "NUM: 96.15%, NOUN: 3.85%, \n",
            "For all tokens labelled CCONJ in spacy:\n",
            "CCONJ: 66.67%, PROPN: 33.33%, \n",
            "For all tokens labelled X in spacy:\n",
            "PROPN: 43.48%, NOUN: 21.74%, NUM: 8.70%, ADV: 4.35%, ADJ: 8.70%, INTJ: 4.35%, X: 4.35%, VERB: 4.35%, \n",
            "For all tokens labelled SCONJ in spacy:\n",
            "PUNCT: 6.67%, ADP: 33.33%, ADV: 40.00%, SCONJ: 20.00%, \n",
            "For all tokens labelled PUNCT in spacy:\n",
            "PROPN: 50.00%, NOUN: 33.33%, INTJ: 16.67%, \n",
            "For all tokens labelled DET in spacy:\n",
            "PRON: 100.00%, "
          ]
        }
      ],
      "source": [
        "mapping_spacy = frequency_mapping('spacy', upos_spacy)"
      ]
    },
    {
      "cell_type": "code",
      "execution_count": 21,
      "metadata": {},
      "outputs": [
        {
          "name": "stdout",
          "output_type": "stream",
          "text": [
            "Frequencies of stanza UPOS tags\n",
            "\n",
            "For all tokens labelled NOUN in stanza:\n",
            "NOUN: 69.95%, PROPN: 7.96%, VERB: 18.42%, ADJ: 2.44%, ADP: 0.05%, PRON: 0.07%, ADV: 0.76%, X: 0.12%, NUM: 0.02%, INTJ: 0.17%, PUNCT: 0.05%, \n",
            "For all tokens labelled VERB in stanza:\n",
            "VERB: 93.92%, NOUN: 4.28%, PROPN: 0.97%, ADJ: 0.78%, X: 0.05%, \n",
            "For all tokens labelled PROPN in stanza:\n",
            "PROPN: 43.67%, NOUN: 34.36%, VERB: 14.17%, INTJ: 0.37%, ADJ: 3.75%, ADV: 2.56%, X: 0.37%, ADP: 0.45%, PUNCT: 0.11%, PRON: 0.11%, CCONJ: 0.04%, AUX: 0.04%, \n",
            "For all tokens labelled ADJ in stanza:\n",
            "ADJ: 67.18%, VERB: 14.68%, PROPN: 5.14%, NOUN: 8.81%, ADV: 3.89%, X: 0.15%, ADP: 0.07%, INTJ: 0.07%, \n",
            "For all tokens labelled INTJ in stanza:\n",
            "PROPN: 35.71%, INTJ: 16.67%, VERB: 7.14%, NOUN: 21.43%, ADJ: 4.76%, ADV: 9.52%, PUNCT: 2.38%, X: 2.38%, \n",
            "For all tokens labelled ADP in stanza:\n",
            "ADP: 61.54%, SCONJ: 38.46%, \n",
            "For all tokens labelled ADV in stanza:\n",
            "ADP: 4.31%, ADV: 89.34%, ADJ: 2.54%, PROPN: 0.76%, SCONJ: 1.52%, X: 0.25%, NOUN: 0.76%, AUX: 0.25%, VERB: 0.25%, \n",
            "For all tokens labelled CCONJ in stanza:\n",
            "ADV: 33.33%, CCONJ: 66.67%, \n",
            "For all tokens labelled PRON in stanza:\n",
            "PRON: 91.67%, DET: 8.33%, \n",
            "For all tokens labelled AUX in stanza:\n",
            "AUX: 100.00%, \n",
            "For all tokens labelled X in stanza:\n",
            "PROPN: 24.00%, NOUN: 52.00%, VERB: 20.00%, X: 4.00%, \n",
            "For all tokens labelled NUM in stanza:\n",
            "NUM: 89.29%, X: 7.14%, NOUN: 3.57%, \n",
            "For all tokens labelled PUNCT in stanza:\n",
            "SCONJ: 33.33%, VERB: 33.33%, PROPN: 33.33%, \n",
            "For all tokens labelled DET in stanza:\n",
            "PRON: 100.00%, \n",
            "For all tokens labelled SYM in stanza:\n",
            "ADV: 50.00%, VERB: 50.00%, \n",
            "For all tokens labelled SCONJ in stanza:\n",
            "SCONJ: 100.00%, "
          ]
        }
      ],
      "source": [
        "mapping_stanza = frequency_mapping('stanza', upos_stanza)"
      ]
    },
    {
      "attachments": {},
      "cell_type": "markdown",
      "metadata": {},
      "source": [
        "## Visualization"
      ]
    },
    {
      "cell_type": "code",
      "execution_count": 22,
      "metadata": {},
      "outputs": [],
      "source": [
        "spacy2stanza = pd.DataFrame(mapping_spacy)\n",
        "stanza2spacy = pd.DataFrame(mapping_stanza)"
      ]
    },
    {
      "cell_type": "code",
      "execution_count": 26,
      "metadata": {},
      "outputs": [
        {
          "data": {
            "image/png": "[encoded data removed]",
            "text/plain": [
              "<Figure size 720x576 with 2 Axes>"
            ]
          },
          "metadata": {
            "needs_background": "light"
          },
          "output_type": "display_data"
        }
      ],
      "source": [
        "plt.figure(figsize=(10, 8))\n",
        "sns.heatmap(spacy2stanza, annot=True, cmap='YlGnBu')\n",
        "plt.title('spaCy to Stanza POS tags')\n",
        "plt.xlabel('spaCy POS')\n",
        "plt.ylabel('Stanza POS')\n",
        "plt.show()"
      ]
    },
    {
      "cell_type": "code",
      "execution_count": 27,
      "metadata": {},
      "outputs": [
        {
          "data": {
            "image/png": "[encoded data removed]",
            "text/plain": [
              "<Figure size 720x576 with 2 Axes>"
            ]
          },
          "metadata": {
            "needs_background": "light"
          },
          "output_type": "display_data"
        }
      ],
      "source": [
        "plt.figure(figsize=(10, 8))\n",
        "sns.heatmap(stanza2spacy, annot=True, cmap='YlGnBu')\n",
        "plt.title('Stanza to spaCy POS tags')\n",
        "plt.xlabel('Stanza POS')\n",
        "plt.ylabel('spaCy POS')\n",
        "plt.show()"
      ]
    }
  ],
  "metadata": {
    "colab": {
      "provenance": []
    },
    "kernelspec": {
      "display_name": "Python 3",
      "name": "python3"
    },
    "language_info": {
      "codemirror_mode": {
        "name": "ipython",
        "version": 3
      },
      "file_extension": ".py",
      "mimetype": "text/x-python",
      "name": "python",
      "nbconvert_exporter": "python",
      "pygments_lexer": "ipython3",
      "version": "3.9.16"
    }
  },
  "nbformat": 4,
  "nbformat_minor": 0
}
